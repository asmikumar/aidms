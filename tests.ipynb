{
 "cells": [
  {
   "cell_type": "code",
   "execution_count": 155,
   "metadata": {},
   "outputs": [],
   "source": [
    "import pandas as pd\n",
    "import numpy as np\n",
    "import matplotlib.pyplot as plt\n",
    "import seaborn as sns\n",
    "\n",
    "from sklearn.linear_model import LogisticRegression\n",
    "from sklearn.metrics import ConfusionMatrixDisplay, classification_report, accuracy_score "
   ]
  },
  {
   "cell_type": "code",
   "execution_count": 156,
   "metadata": {},
   "outputs": [
    {
     "data": {
      "text/html": [
       "<div>\n",
       "<style scoped>\n",
       "    .dataframe tbody tr th:only-of-type {\n",
       "        vertical-align: middle;\n",
       "    }\n",
       "\n",
       "    .dataframe tbody tr th {\n",
       "        vertical-align: top;\n",
       "    }\n",
       "\n",
       "    .dataframe thead th {\n",
       "        text-align: right;\n",
       "    }\n",
       "</style>\n",
       "<table border=\"1\" class=\"dataframe\">\n",
       "  <thead>\n",
       "    <tr style=\"text-align: right;\">\n",
       "      <th></th>\n",
       "      <th>HeartDisease</th>\n",
       "      <th>BMI</th>\n",
       "      <th>Smoking</th>\n",
       "      <th>AlcoholDrinking</th>\n",
       "      <th>Stroke</th>\n",
       "      <th>PhysicalHealth</th>\n",
       "      <th>MentalHealth</th>\n",
       "      <th>DiffWalking</th>\n",
       "      <th>Sex</th>\n",
       "      <th>AgeCategory</th>\n",
       "      <th>Race</th>\n",
       "      <th>Diabetic</th>\n",
       "      <th>PhysicalActivity</th>\n",
       "      <th>GenHealth</th>\n",
       "      <th>SleepTime</th>\n",
       "      <th>Asthma</th>\n",
       "      <th>KidneyDisease</th>\n",
       "      <th>SkinCancer</th>\n",
       "    </tr>\n",
       "  </thead>\n",
       "  <tbody>\n",
       "    <tr>\n",
       "      <th>0</th>\n",
       "      <td>No</td>\n",
       "      <td>16.60</td>\n",
       "      <td>Yes</td>\n",
       "      <td>No</td>\n",
       "      <td>No</td>\n",
       "      <td>3.0</td>\n",
       "      <td>30.0</td>\n",
       "      <td>No</td>\n",
       "      <td>Female</td>\n",
       "      <td>55-59</td>\n",
       "      <td>White</td>\n",
       "      <td>Yes</td>\n",
       "      <td>Yes</td>\n",
       "      <td>Very good</td>\n",
       "      <td>5.0</td>\n",
       "      <td>Yes</td>\n",
       "      <td>No</td>\n",
       "      <td>Yes</td>\n",
       "    </tr>\n",
       "    <tr>\n",
       "      <th>1</th>\n",
       "      <td>No</td>\n",
       "      <td>20.34</td>\n",
       "      <td>No</td>\n",
       "      <td>No</td>\n",
       "      <td>Yes</td>\n",
       "      <td>0.0</td>\n",
       "      <td>0.0</td>\n",
       "      <td>No</td>\n",
       "      <td>Female</td>\n",
       "      <td>80 or older</td>\n",
       "      <td>White</td>\n",
       "      <td>No</td>\n",
       "      <td>Yes</td>\n",
       "      <td>Very good</td>\n",
       "      <td>7.0</td>\n",
       "      <td>No</td>\n",
       "      <td>No</td>\n",
       "      <td>No</td>\n",
       "    </tr>\n",
       "    <tr>\n",
       "      <th>2</th>\n",
       "      <td>No</td>\n",
       "      <td>26.58</td>\n",
       "      <td>Yes</td>\n",
       "      <td>No</td>\n",
       "      <td>No</td>\n",
       "      <td>20.0</td>\n",
       "      <td>30.0</td>\n",
       "      <td>No</td>\n",
       "      <td>Male</td>\n",
       "      <td>65-69</td>\n",
       "      <td>White</td>\n",
       "      <td>Yes</td>\n",
       "      <td>Yes</td>\n",
       "      <td>Fair</td>\n",
       "      <td>8.0</td>\n",
       "      <td>Yes</td>\n",
       "      <td>No</td>\n",
       "      <td>No</td>\n",
       "    </tr>\n",
       "    <tr>\n",
       "      <th>3</th>\n",
       "      <td>No</td>\n",
       "      <td>24.21</td>\n",
       "      <td>No</td>\n",
       "      <td>No</td>\n",
       "      <td>No</td>\n",
       "      <td>0.0</td>\n",
       "      <td>0.0</td>\n",
       "      <td>No</td>\n",
       "      <td>Female</td>\n",
       "      <td>75-79</td>\n",
       "      <td>White</td>\n",
       "      <td>No</td>\n",
       "      <td>No</td>\n",
       "      <td>Good</td>\n",
       "      <td>6.0</td>\n",
       "      <td>No</td>\n",
       "      <td>No</td>\n",
       "      <td>Yes</td>\n",
       "    </tr>\n",
       "    <tr>\n",
       "      <th>4</th>\n",
       "      <td>No</td>\n",
       "      <td>23.71</td>\n",
       "      <td>No</td>\n",
       "      <td>No</td>\n",
       "      <td>No</td>\n",
       "      <td>28.0</td>\n",
       "      <td>0.0</td>\n",
       "      <td>Yes</td>\n",
       "      <td>Female</td>\n",
       "      <td>40-44</td>\n",
       "      <td>White</td>\n",
       "      <td>No</td>\n",
       "      <td>Yes</td>\n",
       "      <td>Very good</td>\n",
       "      <td>8.0</td>\n",
       "      <td>No</td>\n",
       "      <td>No</td>\n",
       "      <td>No</td>\n",
       "    </tr>\n",
       "  </tbody>\n",
       "</table>\n",
       "</div>"
      ],
      "text/plain": [
       "  HeartDisease    BMI Smoking AlcoholDrinking Stroke  PhysicalHealth  \\\n",
       "0           No  16.60     Yes              No     No             3.0   \n",
       "1           No  20.34      No              No    Yes             0.0   \n",
       "2           No  26.58     Yes              No     No            20.0   \n",
       "3           No  24.21      No              No     No             0.0   \n",
       "4           No  23.71      No              No     No            28.0   \n",
       "\n",
       "   MentalHealth DiffWalking     Sex  AgeCategory   Race Diabetic  \\\n",
       "0          30.0          No  Female        55-59  White      Yes   \n",
       "1           0.0          No  Female  80 or older  White       No   \n",
       "2          30.0          No    Male        65-69  White      Yes   \n",
       "3           0.0          No  Female        75-79  White       No   \n",
       "4           0.0         Yes  Female        40-44  White       No   \n",
       "\n",
       "  PhysicalActivity  GenHealth  SleepTime Asthma KidneyDisease SkinCancer  \n",
       "0              Yes  Very good        5.0    Yes            No        Yes  \n",
       "1              Yes  Very good        7.0     No            No         No  \n",
       "2              Yes       Fair        8.0    Yes            No         No  \n",
       "3               No       Good        6.0     No            No        Yes  \n",
       "4              Yes  Very good        8.0     No            No         No  "
      ]
     },
     "execution_count": 156,
     "metadata": {},
     "output_type": "execute_result"
    }
   ],
   "source": [
    "df = pd.read_csv('heart_2020_cleaned.csv')\n",
    "df.head()"
   ]
  },
  {
   "cell_type": "code",
   "execution_count": 157,
   "metadata": {},
   "outputs": [
    {
     "name": "stdout",
     "output_type": "stream",
     "text": [
      "Shape of dataset: (319795, 18)\n",
      "<class 'pandas.core.frame.DataFrame'>\n",
      "RangeIndex: 319795 entries, 0 to 319794\n",
      "Data columns (total 18 columns):\n",
      " #   Column            Non-Null Count   Dtype  \n",
      "---  ------            --------------   -----  \n",
      " 0   HeartDisease      319795 non-null  object \n",
      " 1   BMI               319795 non-null  float64\n",
      " 2   Smoking           319795 non-null  object \n",
      " 3   AlcoholDrinking   319795 non-null  object \n",
      " 4   Stroke            319795 non-null  object \n",
      " 5   PhysicalHealth    319795 non-null  float64\n",
      " 6   MentalHealth      319795 non-null  float64\n",
      " 7   DiffWalking       319795 non-null  object \n",
      " 8   Sex               319795 non-null  object \n",
      " 9   AgeCategory       319795 non-null  object \n",
      " 10  Race              319795 non-null  object \n",
      " 11  Diabetic          319795 non-null  object \n",
      " 12  PhysicalActivity  319795 non-null  object \n",
      " 13  GenHealth         319795 non-null  object \n",
      " 14  SleepTime         319795 non-null  float64\n",
      " 15  Asthma            319795 non-null  object \n",
      " 16  KidneyDisease     319795 non-null  object \n",
      " 17  SkinCancer        319795 non-null  object \n",
      "dtypes: float64(4), object(14)\n",
      "memory usage: 43.9+ MB\n"
     ]
    }
   ],
   "source": [
    "print(\"Shape of dataset:\", df.shape)\n",
    "df.info()"
   ]
  },
  {
   "cell_type": "code",
   "execution_count": 158,
   "metadata": {},
   "outputs": [
    {
     "data": {
      "image/png": "[encoded data removed]",
      "text/plain": [
       "<Figure size 640x480 with 1 Axes>"
      ]
     },
     "metadata": {},
     "output_type": "display_data"
    }
   ],
   "source": [
    "sns.countplot(x=df['HeartDisease'])\n",
    "plt.show()"
   ]
  },
  {
   "cell_type": "code",
   "execution_count": 159,
   "metadata": {},
   "outputs": [
    {
     "name": "stdout",
     "output_type": "stream",
     "text": [
      "Ratio of count of class 'No' to class 'Yes': 10.682862674898622\n"
     ]
    }
   ],
   "source": [
    "print(\"Ratio of count of class 'No' to class 'Yes':\", len(df[df['HeartDisease']=='No'])/len(df[df['HeartDisease']=='Yes']))"
   ]
  },
  {
   "cell_type": "code",
   "execution_count": 165,
   "metadata": {},
   "outputs": [],
   "source": [
    "df = df[df[\"Race\"] != 'American Indian/Alaskan Native']"
   ]
  },
  {
   "cell_type": "code",
   "execution_count": 166,
   "metadata": {},
   "outputs": [
    {
     "data": {
      "text/plain": [
       "{'White': 245212,\n",
       " 'Hispanic': 27446,\n",
       " 'Black': 22939,\n",
       " 'Other': 10928,\n",
       " 'Asian': 8068}"
      ]
     },
     "execution_count": 166,
     "metadata": {},
     "output_type": "execute_result"
    }
   ],
   "source": [
    "counts = df['Race'].value_counts()\n",
    "counts = dict(counts)\n",
    "counts"
   ]
  },
  {
   "cell_type": "code",
   "execution_count": 167,
   "metadata": {},
   "outputs": [
    {
     "data": {
      "text/plain": [
       "<AxesSubplot:xlabel='Race', ylabel='count'>"
      ]
     },
     "execution_count": 167,
     "metadata": {},
     "output_type": "execute_result"
    },
    {
     "data": {
      "image/png": "[encoded data removed]",
      "text/plain": [
       "<Figure size 640x480 with 1 Axes>"
      ]
     },
     "metadata": {},
     "output_type": "display_data"
    }
   ],
   "source": [
    "sns.countplot(x = df[\"Race\"])"
   ]
  },
  {
   "cell_type": "code",
   "execution_count": 168,
   "metadata": {},
   "outputs": [
    {
     "name": "stdout",
     "output_type": "stream",
     "text": [
      "0.220542097249462\n"
     ]
    }
   ],
   "source": [
    "total = 0\n",
    "nonwhite = 0\n",
    "\n",
    "for race, num in counts.items():\n",
    "    if race != \"White\":\n",
    "        nonwhite += num\n",
    "    total += num\n",
    "\n",
    "percent_nonwhite = float(nonwhite) / total\n",
    "print (percent_nonwhite)"
   ]
  },
  {
   "cell_type": "code",
   "execution_count": 169,
   "metadata": {},
   "outputs": [
    {
     "data": {
      "text/plain": [
       "array([0.7794579 , 0.05513552, 0.05513552, 0.05513552, 0.05513552])"
      ]
     },
     "execution_count": 169,
     "metadata": {},
     "output_type": "execute_result"
    }
   ],
   "source": [
    "num_races = len(counts.items())\n",
    "\n",
    "target_dist_1 = np.array([1 - (percent_nonwhite)] + [percent_nonwhite / (num_races - 1) for i in range (num_races - 1)])\n",
    "target_dist_1"
   ]
  },
  {
   "cell_type": "code",
   "execution_count": 170,
   "metadata": {},
   "outputs": [],
   "source": [
    "target_dist_4 = np.array([1.0 / num_races for i in range (num_races)])\n",
    "\n",
    "target_dist_2 = (target_dist_1 * 2 + target_dist_4) / 3\n",
    "target_dist_3 = (target_dist_1 + target_dist_4 * 2) / 3"
   ]
  },
  {
   "cell_type": "code",
   "execution_count": 171,
   "metadata": {},
   "outputs": [
    {
     "data": {
      "text/plain": [
       "dict_keys(['White', 'Hispanic', 'Black', 'Other', 'Asian'])"
      ]
     },
     "execution_count": 171,
     "metadata": {},
     "output_type": "execute_result"
    }
   ],
   "source": [
    "counts.keys()"
   ]
  },
  {
   "cell_type": "code",
   "execution_count": 172,
   "metadata": {},
   "outputs": [
    {
     "data": {
      "image/png": "[encoded data removed]",
      "text/plain": [
       "<Figure size 640x480 with 4 Axes>"
      ]
     },
     "metadata": {},
     "output_type": "display_data"
    }
   ],
   "source": [
    "fig, ((ax1, ax2), (ax3, ax4)) = plt.subplots(2, 2)\n",
    "\n",
    "ax1.bar(counts.keys(), target_dist_1)\n",
    "ax2.bar(counts.keys(), target_dist_2)\n",
    "ax3.bar(counts.keys(), target_dist_3)\n",
    "ax4.bar(counts.keys(), target_dist_4)\n",
    "\n",
    "plt.show()"
   ]
  },
  {
   "cell_type": "markdown",
   "metadata": {},
   "source": [
    "# Remove Duplicates"
   ]
  },
  {
   "cell_type": "code",
   "execution_count": 173,
   "metadata": {},
   "outputs": [
    {
     "name": "stdout",
     "output_type": "stream",
     "text": [
      "Initial shape: (314593, 18)\n",
      "Duplicates in dataset: 18068\n"
     ]
    }
   ],
   "source": [
    "print(\"Initial shape:\", df.shape)\n",
    "print(\"Duplicates in dataset:\", df.duplicated().sum())"
   ]
  },
  {
   "cell_type": "code",
   "execution_count": 174,
   "metadata": {},
   "outputs": [
    {
     "name": "stdout",
     "output_type": "stream",
     "text": [
      "New shape: (296525, 18)\n",
      "Duplicates in dataset: 0\n"
     ]
    }
   ],
   "source": [
    "df.drop_duplicates(inplace=True)\n",
    "\n",
    "print(\"New shape:\", df.shape)\n",
    "print(\"Duplicates in dataset:\", df.duplicated().sum())"
   ]
  },
  {
   "cell_type": "code",
   "execution_count": 175,
   "metadata": {},
   "outputs": [
    {
     "data": {
      "text/plain": [
       "{'White': 227724,\n",
       " 'Hispanic': 27107,\n",
       " 'Black': 22810,\n",
       " 'Other': 10891,\n",
       " 'Asian': 7993}"
      ]
     },
     "execution_count": 175,
     "metadata": {},
     "output_type": "execute_result"
    }
   ],
   "source": [
    "counts = df['Race'].value_counts()\n",
    "counts = dict(counts)\n",
    "counts"
   ]
  },
  {
   "cell_type": "code",
   "execution_count": 176,
   "metadata": {},
   "outputs": [
    {
     "name": "stdout",
     "output_type": "stream",
     "text": [
      "0.23202428125790406\n"
     ]
    }
   ],
   "source": [
    "total = 0\n",
    "nonwhite = 0\n",
    "\n",
    "for race, num in counts.items():\n",
    "    if race != \"White\":\n",
    "        nonwhite += num\n",
    "    total += num\n",
    "\n",
    "percent_nonwhite = float(nonwhite) / total\n",
    "print (percent_nonwhite)"
   ]
  },
  {
   "cell_type": "code",
   "execution_count": 177,
   "metadata": {},
   "outputs": [
    {
     "data": {
      "text/plain": [
       "Index(['HeartDisease', 'BMI', 'Smoking', 'AlcoholDrinking', 'Stroke',\n",
       "       'PhysicalHealth', 'MentalHealth', 'DiffWalking', 'Sex', 'AgeCategory',\n",
       "       'Race', 'Diabetic', 'PhysicalActivity', 'GenHealth', 'SleepTime',\n",
       "       'Asthma', 'KidneyDisease', 'SkinCancer'],\n",
       "      dtype='object')"
      ]
     },
     "execution_count": 177,
     "metadata": {},
     "output_type": "execute_result"
    }
   ],
   "source": [
    "df.columns"
   ]
  },
  {
   "cell_type": "markdown",
   "metadata": {},
   "source": [
    "# Encoding"
   ]
  },
  {
   "cell_type": "code",
   "execution_count": 179,
   "metadata": {},
   "outputs": [
    {
     "data": {
      "text/html": [
       "<div>\n",
       "<style scoped>\n",
       "    .dataframe tbody tr th:only-of-type {\n",
       "        vertical-align: middle;\n",
       "    }\n",
       "\n",
       "    .dataframe tbody tr th {\n",
       "        vertical-align: top;\n",
       "    }\n",
       "\n",
       "    .dataframe thead th {\n",
       "        text-align: right;\n",
       "    }\n",
       "</style>\n",
       "<table border=\"1\" class=\"dataframe\">\n",
       "  <thead>\n",
       "    <tr style=\"text-align: right;\">\n",
       "      <th></th>\n",
       "      <th>HeartDisease</th>\n",
       "      <th>BMI</th>\n",
       "      <th>Smoking</th>\n",
       "      <th>AlcoholDrinking</th>\n",
       "      <th>Stroke</th>\n",
       "      <th>PhysicalHealth</th>\n",
       "      <th>MentalHealth</th>\n",
       "      <th>DiffWalking</th>\n",
       "      <th>Sex</th>\n",
       "      <th>AgeCategory</th>\n",
       "      <th>Race</th>\n",
       "      <th>Diabetic</th>\n",
       "      <th>PhysicalActivity</th>\n",
       "      <th>GenHealth</th>\n",
       "      <th>SleepTime</th>\n",
       "      <th>Asthma</th>\n",
       "      <th>KidneyDisease</th>\n",
       "      <th>SkinCancer</th>\n",
       "    </tr>\n",
       "  </thead>\n",
       "  <tbody>\n",
       "    <tr>\n",
       "      <th>0</th>\n",
       "      <td>0</td>\n",
       "      <td>16.60</td>\n",
       "      <td>1</td>\n",
       "      <td>0</td>\n",
       "      <td>0</td>\n",
       "      <td>3.0</td>\n",
       "      <td>30.0</td>\n",
       "      <td>0</td>\n",
       "      <td>0</td>\n",
       "      <td>7</td>\n",
       "      <td>4</td>\n",
       "      <td>2</td>\n",
       "      <td>1</td>\n",
       "      <td>4</td>\n",
       "      <td>5.0</td>\n",
       "      <td>1</td>\n",
       "      <td>0</td>\n",
       "      <td>1</td>\n",
       "    </tr>\n",
       "    <tr>\n",
       "      <th>1</th>\n",
       "      <td>0</td>\n",
       "      <td>20.34</td>\n",
       "      <td>0</td>\n",
       "      <td>0</td>\n",
       "      <td>1</td>\n",
       "      <td>0.0</td>\n",
       "      <td>0.0</td>\n",
       "      <td>0</td>\n",
       "      <td>0</td>\n",
       "      <td>12</td>\n",
       "      <td>4</td>\n",
       "      <td>0</td>\n",
       "      <td>1</td>\n",
       "      <td>4</td>\n",
       "      <td>7.0</td>\n",
       "      <td>0</td>\n",
       "      <td>0</td>\n",
       "      <td>0</td>\n",
       "    </tr>\n",
       "    <tr>\n",
       "      <th>2</th>\n",
       "      <td>0</td>\n",
       "      <td>26.58</td>\n",
       "      <td>1</td>\n",
       "      <td>0</td>\n",
       "      <td>0</td>\n",
       "      <td>20.0</td>\n",
       "      <td>30.0</td>\n",
       "      <td>0</td>\n",
       "      <td>1</td>\n",
       "      <td>9</td>\n",
       "      <td>4</td>\n",
       "      <td>2</td>\n",
       "      <td>1</td>\n",
       "      <td>1</td>\n",
       "      <td>8.0</td>\n",
       "      <td>1</td>\n",
       "      <td>0</td>\n",
       "      <td>0</td>\n",
       "    </tr>\n",
       "    <tr>\n",
       "      <th>3</th>\n",
       "      <td>0</td>\n",
       "      <td>24.21</td>\n",
       "      <td>0</td>\n",
       "      <td>0</td>\n",
       "      <td>0</td>\n",
       "      <td>0.0</td>\n",
       "      <td>0.0</td>\n",
       "      <td>0</td>\n",
       "      <td>0</td>\n",
       "      <td>11</td>\n",
       "      <td>4</td>\n",
       "      <td>0</td>\n",
       "      <td>0</td>\n",
       "      <td>2</td>\n",
       "      <td>6.0</td>\n",
       "      <td>0</td>\n",
       "      <td>0</td>\n",
       "      <td>1</td>\n",
       "    </tr>\n",
       "    <tr>\n",
       "      <th>4</th>\n",
       "      <td>0</td>\n",
       "      <td>23.71</td>\n",
       "      <td>0</td>\n",
       "      <td>0</td>\n",
       "      <td>0</td>\n",
       "      <td>28.0</td>\n",
       "      <td>0.0</td>\n",
       "      <td>1</td>\n",
       "      <td>0</td>\n",
       "      <td>4</td>\n",
       "      <td>4</td>\n",
       "      <td>0</td>\n",
       "      <td>1</td>\n",
       "      <td>4</td>\n",
       "      <td>8.0</td>\n",
       "      <td>0</td>\n",
       "      <td>0</td>\n",
       "      <td>0</td>\n",
       "    </tr>\n",
       "  </tbody>\n",
       "</table>\n",
       "</div>"
      ],
      "text/plain": [
       "   HeartDisease    BMI  Smoking  AlcoholDrinking  Stroke  PhysicalHealth  \\\n",
       "0             0  16.60        1                0       0             3.0   \n",
       "1             0  20.34        0                0       1             0.0   \n",
       "2             0  26.58        1                0       0            20.0   \n",
       "3             0  24.21        0                0       0             0.0   \n",
       "4             0  23.71        0                0       0            28.0   \n",
       "\n",
       "   MentalHealth  DiffWalking  Sex  AgeCategory  Race  Diabetic  \\\n",
       "0          30.0            0    0            7     4         2   \n",
       "1           0.0            0    0           12     4         0   \n",
       "2          30.0            0    1            9     4         2   \n",
       "3           0.0            0    0           11     4         0   \n",
       "4           0.0            1    0            4     4         0   \n",
       "\n",
       "   PhysicalActivity  GenHealth  SleepTime  Asthma  KidneyDisease  SkinCancer  \n",
       "0                 1          4        5.0       1              0           1  \n",
       "1                 1          4        7.0       0              0           0  \n",
       "2                 1          1        8.0       1              0           0  \n",
       "3                 0          2        6.0       0              0           1  \n",
       "4                 1          4        8.0       0              0           0  "
      ]
     },
     "execution_count": 179,
     "metadata": {},
     "output_type": "execute_result"
    }
   ],
   "source": [
    "from sklearn.preprocessing import LabelEncoder\n",
    "\n",
    "data=df.copy()\n",
    "le = LabelEncoder()\n",
    "\n",
    "col = data[['HeartDisease', 'Smoking', 'AlcoholDrinking','AgeCategory', 'Stroke', 'DiffWalking','Race', 'Sex','PhysicalActivity', 'Asthma', 'KidneyDisease', 'SkinCancer','GenHealth' ,'Diabetic']]\n",
    "for i in col:\n",
    "    data[i] = le.fit_transform(data[i])\n",
    "data.head()"
   ]
  },
  {
   "cell_type": "markdown",
   "metadata": {},
   "source": [
    "# Standardization"
   ]
  },
  {
   "cell_type": "code",
   "execution_count": 180,
   "metadata": {},
   "outputs": [
    {
     "data": {
      "text/html": [
       "<div>\n",
       "<style scoped>\n",
       "    .dataframe tbody tr th:only-of-type {\n",
       "        vertical-align: middle;\n",
       "    }\n",
       "\n",
       "    .dataframe tbody tr th {\n",
       "        vertical-align: top;\n",
       "    }\n",
       "\n",
       "    .dataframe thead th {\n",
       "        text-align: right;\n",
       "    }\n",
       "</style>\n",
       "<table border=\"1\" class=\"dataframe\">\n",
       "  <thead>\n",
       "    <tr style=\"text-align: right;\">\n",
       "      <th></th>\n",
       "      <th>HeartDisease</th>\n",
       "      <th>BMI</th>\n",
       "      <th>Smoking</th>\n",
       "      <th>AlcoholDrinking</th>\n",
       "      <th>Stroke</th>\n",
       "      <th>PhysicalHealth</th>\n",
       "      <th>MentalHealth</th>\n",
       "      <th>DiffWalking</th>\n",
       "      <th>Sex</th>\n",
       "      <th>AgeCategory</th>\n",
       "      <th>Race</th>\n",
       "      <th>Diabetic</th>\n",
       "      <th>PhysicalActivity</th>\n",
       "      <th>GenHealth</th>\n",
       "      <th>SleepTime</th>\n",
       "      <th>Asthma</th>\n",
       "      <th>KidneyDisease</th>\n",
       "      <th>SkinCancer</th>\n",
       "    </tr>\n",
       "  </thead>\n",
       "  <tbody>\n",
       "    <tr>\n",
       "      <th>0</th>\n",
       "      <td>0</td>\n",
       "      <td>-1.830518</td>\n",
       "      <td>1</td>\n",
       "      <td>0</td>\n",
       "      <td>0</td>\n",
       "      <td>-0.067872</td>\n",
       "      <td>3.193682</td>\n",
       "      <td>0</td>\n",
       "      <td>0</td>\n",
       "      <td>7</td>\n",
       "      <td>4</td>\n",
       "      <td>2</td>\n",
       "      <td>1</td>\n",
       "      <td>4</td>\n",
       "      <td>-1.426628</td>\n",
       "      <td>1</td>\n",
       "      <td>0</td>\n",
       "      <td>1</td>\n",
       "    </tr>\n",
       "    <tr>\n",
       "      <th>1</th>\n",
       "      <td>0</td>\n",
       "      <td>-1.251373</td>\n",
       "      <td>0</td>\n",
       "      <td>0</td>\n",
       "      <td>1</td>\n",
       "      <td>-0.437546</td>\n",
       "      <td>-0.506319</td>\n",
       "      <td>0</td>\n",
       "      <td>0</td>\n",
       "      <td>12</td>\n",
       "      <td>4</td>\n",
       "      <td>0</td>\n",
       "      <td>1</td>\n",
       "      <td>4</td>\n",
       "      <td>-0.058196</td>\n",
       "      <td>0</td>\n",
       "      <td>0</td>\n",
       "      <td>0</td>\n",
       "    </tr>\n",
       "    <tr>\n",
       "      <th>2</th>\n",
       "      <td>0</td>\n",
       "      <td>-0.285098</td>\n",
       "      <td>1</td>\n",
       "      <td>0</td>\n",
       "      <td>0</td>\n",
       "      <td>2.026949</td>\n",
       "      <td>3.193682</td>\n",
       "      <td>0</td>\n",
       "      <td>1</td>\n",
       "      <td>9</td>\n",
       "      <td>4</td>\n",
       "      <td>2</td>\n",
       "      <td>1</td>\n",
       "      <td>1</td>\n",
       "      <td>0.626020</td>\n",
       "      <td>1</td>\n",
       "      <td>0</td>\n",
       "      <td>0</td>\n",
       "    </tr>\n",
       "    <tr>\n",
       "      <th>3</th>\n",
       "      <td>0</td>\n",
       "      <td>-0.652097</td>\n",
       "      <td>0</td>\n",
       "      <td>0</td>\n",
       "      <td>0</td>\n",
       "      <td>-0.437546</td>\n",
       "      <td>-0.506319</td>\n",
       "      <td>0</td>\n",
       "      <td>0</td>\n",
       "      <td>11</td>\n",
       "      <td>4</td>\n",
       "      <td>0</td>\n",
       "      <td>0</td>\n",
       "      <td>2</td>\n",
       "      <td>-0.742412</td>\n",
       "      <td>0</td>\n",
       "      <td>0</td>\n",
       "      <td>1</td>\n",
       "    </tr>\n",
       "    <tr>\n",
       "      <th>4</th>\n",
       "      <td>0</td>\n",
       "      <td>-0.729523</td>\n",
       "      <td>0</td>\n",
       "      <td>0</td>\n",
       "      <td>0</td>\n",
       "      <td>3.012747</td>\n",
       "      <td>-0.506319</td>\n",
       "      <td>1</td>\n",
       "      <td>0</td>\n",
       "      <td>4</td>\n",
       "      <td>4</td>\n",
       "      <td>0</td>\n",
       "      <td>1</td>\n",
       "      <td>4</td>\n",
       "      <td>0.626020</td>\n",
       "      <td>0</td>\n",
       "      <td>0</td>\n",
       "      <td>0</td>\n",
       "    </tr>\n",
       "    <tr>\n",
       "      <th>...</th>\n",
       "      <td>...</td>\n",
       "      <td>...</td>\n",
       "      <td>...</td>\n",
       "      <td>...</td>\n",
       "      <td>...</td>\n",
       "      <td>...</td>\n",
       "      <td>...</td>\n",
       "      <td>...</td>\n",
       "      <td>...</td>\n",
       "      <td>...</td>\n",
       "      <td>...</td>\n",
       "      <td>...</td>\n",
       "      <td>...</td>\n",
       "      <td>...</td>\n",
       "      <td>...</td>\n",
       "      <td>...</td>\n",
       "      <td>...</td>\n",
       "      <td>...</td>\n",
       "    </tr>\n",
       "    <tr>\n",
       "      <th>319790</th>\n",
       "      <td>1</td>\n",
       "      <td>-0.156571</td>\n",
       "      <td>1</td>\n",
       "      <td>0</td>\n",
       "      <td>0</td>\n",
       "      <td>0.425027</td>\n",
       "      <td>-0.506319</td>\n",
       "      <td>1</td>\n",
       "      <td>1</td>\n",
       "      <td>8</td>\n",
       "      <td>2</td>\n",
       "      <td>2</td>\n",
       "      <td>0</td>\n",
       "      <td>1</td>\n",
       "      <td>-0.742412</td>\n",
       "      <td>1</td>\n",
       "      <td>0</td>\n",
       "      <td>0</td>\n",
       "    </tr>\n",
       "    <tr>\n",
       "      <th>319791</th>\n",
       "      <td>0</td>\n",
       "      <td>0.219718</td>\n",
       "      <td>1</td>\n",
       "      <td>0</td>\n",
       "      <td>0</td>\n",
       "      <td>-0.437546</td>\n",
       "      <td>-0.506319</td>\n",
       "      <td>0</td>\n",
       "      <td>1</td>\n",
       "      <td>3</td>\n",
       "      <td>2</td>\n",
       "      <td>0</td>\n",
       "      <td>1</td>\n",
       "      <td>4</td>\n",
       "      <td>-1.426628</td>\n",
       "      <td>1</td>\n",
       "      <td>0</td>\n",
       "      <td>0</td>\n",
       "    </tr>\n",
       "    <tr>\n",
       "      <th>319792</th>\n",
       "      <td>0</td>\n",
       "      <td>-0.647451</td>\n",
       "      <td>0</td>\n",
       "      <td>0</td>\n",
       "      <td>0</td>\n",
       "      <td>-0.437546</td>\n",
       "      <td>-0.506319</td>\n",
       "      <td>0</td>\n",
       "      <td>0</td>\n",
       "      <td>5</td>\n",
       "      <td>2</td>\n",
       "      <td>0</td>\n",
       "      <td>1</td>\n",
       "      <td>2</td>\n",
       "      <td>-0.742412</td>\n",
       "      <td>0</td>\n",
       "      <td>0</td>\n",
       "      <td>0</td>\n",
       "    </tr>\n",
       "    <tr>\n",
       "      <th>319793</th>\n",
       "      <td>0</td>\n",
       "      <td>0.679628</td>\n",
       "      <td>0</td>\n",
       "      <td>0</td>\n",
       "      <td>0</td>\n",
       "      <td>-0.437546</td>\n",
       "      <td>-0.506319</td>\n",
       "      <td>0</td>\n",
       "      <td>0</td>\n",
       "      <td>1</td>\n",
       "      <td>2</td>\n",
       "      <td>0</td>\n",
       "      <td>0</td>\n",
       "      <td>2</td>\n",
       "      <td>3.362883</td>\n",
       "      <td>0</td>\n",
       "      <td>0</td>\n",
       "      <td>0</td>\n",
       "    </tr>\n",
       "    <tr>\n",
       "      <th>319794</th>\n",
       "      <td>0</td>\n",
       "      <td>2.808838</td>\n",
       "      <td>0</td>\n",
       "      <td>0</td>\n",
       "      <td>0</td>\n",
       "      <td>-0.437546</td>\n",
       "      <td>-0.506319</td>\n",
       "      <td>0</td>\n",
       "      <td>0</td>\n",
       "      <td>12</td>\n",
       "      <td>2</td>\n",
       "      <td>0</td>\n",
       "      <td>1</td>\n",
       "      <td>2</td>\n",
       "      <td>0.626020</td>\n",
       "      <td>0</td>\n",
       "      <td>0</td>\n",
       "      <td>0</td>\n",
       "    </tr>\n",
       "  </tbody>\n",
       "</table>\n",
       "<p>296525 rows × 18 columns</p>\n",
       "</div>"
      ],
      "text/plain": [
       "        HeartDisease       BMI  Smoking  AlcoholDrinking  Stroke  \\\n",
       "0                  0 -1.830518        1                0       0   \n",
       "1                  0 -1.251373        0                0       1   \n",
       "2                  0 -0.285098        1                0       0   \n",
       "3                  0 -0.652097        0                0       0   \n",
       "4                  0 -0.729523        0                0       0   \n",
       "...              ...       ...      ...              ...     ...   \n",
       "319790             1 -0.156571        1                0       0   \n",
       "319791             0  0.219718        1                0       0   \n",
       "319792             0 -0.647451        0                0       0   \n",
       "319793             0  0.679628        0                0       0   \n",
       "319794             0  2.808838        0                0       0   \n",
       "\n",
       "        PhysicalHealth  MentalHealth  DiffWalking  Sex  AgeCategory  Race  \\\n",
       "0            -0.067872      3.193682            0    0            7     4   \n",
       "1            -0.437546     -0.506319            0    0           12     4   \n",
       "2             2.026949      3.193682            0    1            9     4   \n",
       "3            -0.437546     -0.506319            0    0           11     4   \n",
       "4             3.012747     -0.506319            1    0            4     4   \n",
       "...                ...           ...          ...  ...          ...   ...   \n",
       "319790        0.425027     -0.506319            1    1            8     2   \n",
       "319791       -0.437546     -0.506319            0    1            3     2   \n",
       "319792       -0.437546     -0.506319            0    0            5     2   \n",
       "319793       -0.437546     -0.506319            0    0            1     2   \n",
       "319794       -0.437546     -0.506319            0    0           12     2   \n",
       "\n",
       "        Diabetic  PhysicalActivity  GenHealth  SleepTime  Asthma  \\\n",
       "0              2                 1          4  -1.426628       1   \n",
       "1              0                 1          4  -0.058196       0   \n",
       "2              2                 1          1   0.626020       1   \n",
       "3              0                 0          2  -0.742412       0   \n",
       "4              0                 1          4   0.626020       0   \n",
       "...          ...               ...        ...        ...     ...   \n",
       "319790         2                 0          1  -0.742412       1   \n",
       "319791         0                 1          4  -1.426628       1   \n",
       "319792         0                 1          2  -0.742412       0   \n",
       "319793         0                 0          2   3.362883       0   \n",
       "319794         0                 1          2   0.626020       0   \n",
       "\n",
       "        KidneyDisease  SkinCancer  \n",
       "0                   0           1  \n",
       "1                   0           0  \n",
       "2                   0           0  \n",
       "3                   0           1  \n",
       "4                   0           0  \n",
       "...               ...         ...  \n",
       "319790              0           0  \n",
       "319791              0           0  \n",
       "319792              0           0  \n",
       "319793              0           0  \n",
       "319794              0           0  \n",
       "\n",
       "[296525 rows x 18 columns]"
      ]
     },
     "execution_count": 180,
     "metadata": {},
     "output_type": "execute_result"
    }
   ],
   "source": [
    "from sklearn.preprocessing import StandardScaler\n",
    "std_scaler = StandardScaler()\n",
    "\n",
    "continuous_vars=df.select_dtypes('float64').columns\n",
    "cols = list(continuous_vars)\n",
    "data[cols] = std_scaler.fit_transform(data[cols])\n",
    "\n",
    "data"
   ]
  },
  {
   "cell_type": "code",
   "execution_count": 181,
   "metadata": {},
   "outputs": [],
   "source": [
    "from sklearn.model_selection import train_test_split\n",
    "\n",
    "training_data, testing_data = train_test_split(data, test_size=0.2)"
   ]
  },
  {
   "cell_type": "code",
   "execution_count": 182,
   "metadata": {},
   "outputs": [
    {
     "data": {
      "text/plain": [
       "(4269960, 1067490)"
      ]
     },
     "execution_count": 182,
     "metadata": {},
     "output_type": "execute_result"
    }
   ],
   "source": [
    "training_data.size, testing_data.size"
   ]
  },
  {
   "cell_type": "markdown",
   "metadata": {},
   "source": [
    "## Train Test Split"
   ]
  },
  {
   "cell_type": "code",
   "execution_count": 183,
   "metadata": {},
   "outputs": [],
   "source": [
    "from sklearn.model_selection import train_test_split\n",
    "\n",
    "training_data, testing_data = train_test_split(data, test_size=0.2)"
   ]
  },
  {
   "cell_type": "code",
   "execution_count": 184,
   "metadata": {},
   "outputs": [
    {
     "data": {
      "text/html": [
       "<div>\n",
       "<style scoped>\n",
       "    .dataframe tbody tr th:only-of-type {\n",
       "        vertical-align: middle;\n",
       "    }\n",
       "\n",
       "    .dataframe tbody tr th {\n",
       "        vertical-align: top;\n",
       "    }\n",
       "\n",
       "    .dataframe thead th {\n",
       "        text-align: right;\n",
       "    }\n",
       "</style>\n",
       "<table border=\"1\" class=\"dataframe\">\n",
       "  <thead>\n",
       "    <tr style=\"text-align: right;\">\n",
       "      <th></th>\n",
       "      <th>HeartDisease</th>\n",
       "      <th>BMI</th>\n",
       "      <th>Smoking</th>\n",
       "      <th>AlcoholDrinking</th>\n",
       "      <th>Stroke</th>\n",
       "      <th>PhysicalHealth</th>\n",
       "      <th>MentalHealth</th>\n",
       "      <th>DiffWalking</th>\n",
       "      <th>Sex</th>\n",
       "      <th>AgeCategory</th>\n",
       "      <th>Race</th>\n",
       "      <th>Diabetic</th>\n",
       "      <th>PhysicalActivity</th>\n",
       "      <th>GenHealth</th>\n",
       "      <th>SleepTime</th>\n",
       "      <th>Asthma</th>\n",
       "      <th>KidneyDisease</th>\n",
       "      <th>SkinCancer</th>\n",
       "    </tr>\n",
       "  </thead>\n",
       "  <tbody>\n",
       "    <tr>\n",
       "      <th>0</th>\n",
       "      <td>0</td>\n",
       "      <td>2.661729</td>\n",
       "      <td>0</td>\n",
       "      <td>0</td>\n",
       "      <td>0</td>\n",
       "      <td>0.794701</td>\n",
       "      <td>0.110348</td>\n",
       "      <td>0</td>\n",
       "      <td>0</td>\n",
       "      <td>2</td>\n",
       "      <td>2</td>\n",
       "      <td>0</td>\n",
       "      <td>1</td>\n",
       "      <td>2</td>\n",
       "      <td>-0.058196</td>\n",
       "      <td>0</td>\n",
       "      <td>0</td>\n",
       "      <td>0</td>\n",
       "    </tr>\n",
       "    <tr>\n",
       "      <th>1</th>\n",
       "      <td>0</td>\n",
       "      <td>-1.005159</td>\n",
       "      <td>0</td>\n",
       "      <td>0</td>\n",
       "      <td>1</td>\n",
       "      <td>-0.191097</td>\n",
       "      <td>-0.506319</td>\n",
       "      <td>0</td>\n",
       "      <td>0</td>\n",
       "      <td>9</td>\n",
       "      <td>4</td>\n",
       "      <td>0</td>\n",
       "      <td>1</td>\n",
       "      <td>2</td>\n",
       "      <td>-0.058196</td>\n",
       "      <td>0</td>\n",
       "      <td>0</td>\n",
       "      <td>0</td>\n",
       "    </tr>\n",
       "    <tr>\n",
       "      <th>2</th>\n",
       "      <td>1</td>\n",
       "      <td>0.012217</td>\n",
       "      <td>1</td>\n",
       "      <td>0</td>\n",
       "      <td>0</td>\n",
       "      <td>-0.437546</td>\n",
       "      <td>3.193682</td>\n",
       "      <td>0</td>\n",
       "      <td>0</td>\n",
       "      <td>2</td>\n",
       "      <td>3</td>\n",
       "      <td>0</td>\n",
       "      <td>0</td>\n",
       "      <td>2</td>\n",
       "      <td>-0.742412</td>\n",
       "      <td>0</td>\n",
       "      <td>0</td>\n",
       "      <td>0</td>\n",
       "    </tr>\n",
       "    <tr>\n",
       "      <th>3</th>\n",
       "      <td>0</td>\n",
       "      <td>-0.433756</td>\n",
       "      <td>0</td>\n",
       "      <td>0</td>\n",
       "      <td>0</td>\n",
       "      <td>-0.437546</td>\n",
       "      <td>0.110348</td>\n",
       "      <td>0</td>\n",
       "      <td>1</td>\n",
       "      <td>7</td>\n",
       "      <td>4</td>\n",
       "      <td>0</td>\n",
       "      <td>1</td>\n",
       "      <td>4</td>\n",
       "      <td>0.626020</td>\n",
       "      <td>0</td>\n",
       "      <td>0</td>\n",
       "      <td>0</td>\n",
       "    </tr>\n",
       "    <tr>\n",
       "      <th>4</th>\n",
       "      <td>0</td>\n",
       "      <td>-0.015656</td>\n",
       "      <td>1</td>\n",
       "      <td>0</td>\n",
       "      <td>0</td>\n",
       "      <td>-0.437546</td>\n",
       "      <td>-0.506319</td>\n",
       "      <td>0</td>\n",
       "      <td>0</td>\n",
       "      <td>9</td>\n",
       "      <td>1</td>\n",
       "      <td>0</td>\n",
       "      <td>0</td>\n",
       "      <td>2</td>\n",
       "      <td>-1.426628</td>\n",
       "      <td>0</td>\n",
       "      <td>0</td>\n",
       "      <td>0</td>\n",
       "    </tr>\n",
       "    <tr>\n",
       "      <th>...</th>\n",
       "      <td>...</td>\n",
       "      <td>...</td>\n",
       "      <td>...</td>\n",
       "      <td>...</td>\n",
       "      <td>...</td>\n",
       "      <td>...</td>\n",
       "      <td>...</td>\n",
       "      <td>...</td>\n",
       "      <td>...</td>\n",
       "      <td>...</td>\n",
       "      <td>...</td>\n",
       "      <td>...</td>\n",
       "      <td>...</td>\n",
       "      <td>...</td>\n",
       "      <td>...</td>\n",
       "      <td>...</td>\n",
       "      <td>...</td>\n",
       "      <td>...</td>\n",
       "    </tr>\n",
       "    <tr>\n",
       "      <th>237215</th>\n",
       "      <td>0</td>\n",
       "      <td>-1.285440</td>\n",
       "      <td>1</td>\n",
       "      <td>0</td>\n",
       "      <td>0</td>\n",
       "      <td>-0.437546</td>\n",
       "      <td>-0.506319</td>\n",
       "      <td>0</td>\n",
       "      <td>0</td>\n",
       "      <td>10</td>\n",
       "      <td>4</td>\n",
       "      <td>0</td>\n",
       "      <td>1</td>\n",
       "      <td>0</td>\n",
       "      <td>-0.058196</td>\n",
       "      <td>0</td>\n",
       "      <td>0</td>\n",
       "      <td>0</td>\n",
       "    </tr>\n",
       "    <tr>\n",
       "      <th>237216</th>\n",
       "      <td>0</td>\n",
       "      <td>0.097385</td>\n",
       "      <td>0</td>\n",
       "      <td>0</td>\n",
       "      <td>0</td>\n",
       "      <td>-0.437546</td>\n",
       "      <td>-0.506319</td>\n",
       "      <td>0</td>\n",
       "      <td>1</td>\n",
       "      <td>4</td>\n",
       "      <td>1</td>\n",
       "      <td>0</td>\n",
       "      <td>1</td>\n",
       "      <td>0</td>\n",
       "      <td>-0.058196</td>\n",
       "      <td>0</td>\n",
       "      <td>0</td>\n",
       "      <td>0</td>\n",
       "    </tr>\n",
       "    <tr>\n",
       "      <th>237217</th>\n",
       "      <td>0</td>\n",
       "      <td>1.153474</td>\n",
       "      <td>0</td>\n",
       "      <td>0</td>\n",
       "      <td>0</td>\n",
       "      <td>-0.437546</td>\n",
       "      <td>-0.506319</td>\n",
       "      <td>0</td>\n",
       "      <td>0</td>\n",
       "      <td>12</td>\n",
       "      <td>4</td>\n",
       "      <td>0</td>\n",
       "      <td>0</td>\n",
       "      <td>0</td>\n",
       "      <td>0.626020</td>\n",
       "      <td>1</td>\n",
       "      <td>0</td>\n",
       "      <td>0</td>\n",
       "    </tr>\n",
       "    <tr>\n",
       "      <th>237218</th>\n",
       "      <td>0</td>\n",
       "      <td>-0.015656</td>\n",
       "      <td>0</td>\n",
       "      <td>0</td>\n",
       "      <td>0</td>\n",
       "      <td>-0.437546</td>\n",
       "      <td>-0.259652</td>\n",
       "      <td>0</td>\n",
       "      <td>0</td>\n",
       "      <td>2</td>\n",
       "      <td>1</td>\n",
       "      <td>3</td>\n",
       "      <td>0</td>\n",
       "      <td>2</td>\n",
       "      <td>-0.742412</td>\n",
       "      <td>0</td>\n",
       "      <td>0</td>\n",
       "      <td>0</td>\n",
       "    </tr>\n",
       "    <tr>\n",
       "      <th>237219</th>\n",
       "      <td>0</td>\n",
       "      <td>0.058672</td>\n",
       "      <td>1</td>\n",
       "      <td>0</td>\n",
       "      <td>0</td>\n",
       "      <td>0.055353</td>\n",
       "      <td>-0.506319</td>\n",
       "      <td>0</td>\n",
       "      <td>1</td>\n",
       "      <td>6</td>\n",
       "      <td>2</td>\n",
       "      <td>0</td>\n",
       "      <td>1</td>\n",
       "      <td>2</td>\n",
       "      <td>-0.742412</td>\n",
       "      <td>0</td>\n",
       "      <td>0</td>\n",
       "      <td>0</td>\n",
       "    </tr>\n",
       "  </tbody>\n",
       "</table>\n",
       "<p>237220 rows × 18 columns</p>\n",
       "</div>"
      ],
      "text/plain": [
       "        HeartDisease       BMI  Smoking  AlcoholDrinking  Stroke  \\\n",
       "0                  0  2.661729        0                0       0   \n",
       "1                  0 -1.005159        0                0       1   \n",
       "2                  1  0.012217        1                0       0   \n",
       "3                  0 -0.433756        0                0       0   \n",
       "4                  0 -0.015656        1                0       0   \n",
       "...              ...       ...      ...              ...     ...   \n",
       "237215             0 -1.285440        1                0       0   \n",
       "237216             0  0.097385        0                0       0   \n",
       "237217             0  1.153474        0                0       0   \n",
       "237218             0 -0.015656        0                0       0   \n",
       "237219             0  0.058672        1                0       0   \n",
       "\n",
       "        PhysicalHealth  MentalHealth  DiffWalking  Sex  AgeCategory  Race  \\\n",
       "0             0.794701      0.110348            0    0            2     2   \n",
       "1            -0.191097     -0.506319            0    0            9     4   \n",
       "2            -0.437546      3.193682            0    0            2     3   \n",
       "3            -0.437546      0.110348            0    1            7     4   \n",
       "4            -0.437546     -0.506319            0    0            9     1   \n",
       "...                ...           ...          ...  ...          ...   ...   \n",
       "237215       -0.437546     -0.506319            0    0           10     4   \n",
       "237216       -0.437546     -0.506319            0    1            4     1   \n",
       "237217       -0.437546     -0.506319            0    0           12     4   \n",
       "237218       -0.437546     -0.259652            0    0            2     1   \n",
       "237219        0.055353     -0.506319            0    1            6     2   \n",
       "\n",
       "        Diabetic  PhysicalActivity  GenHealth  SleepTime  Asthma  \\\n",
       "0              0                 1          2  -0.058196       0   \n",
       "1              0                 1          2  -0.058196       0   \n",
       "2              0                 0          2  -0.742412       0   \n",
       "3              0                 1          4   0.626020       0   \n",
       "4              0                 0          2  -1.426628       0   \n",
       "...          ...               ...        ...        ...     ...   \n",
       "237215         0                 1          0  -0.058196       0   \n",
       "237216         0                 1          0  -0.058196       0   \n",
       "237217         0                 0          0   0.626020       1   \n",
       "237218         3                 0          2  -0.742412       0   \n",
       "237219         0                 1          2  -0.742412       0   \n",
       "\n",
       "        KidneyDisease  SkinCancer  \n",
       "0                   0           0  \n",
       "1                   0           0  \n",
       "2                   0           0  \n",
       "3                   0           0  \n",
       "4                   0           0  \n",
       "...               ...         ...  \n",
       "237215              0           0  \n",
       "237216              0           0  \n",
       "237217              0           0  \n",
       "237218              0           0  \n",
       "237219              0           0  \n",
       "\n",
       "[237220 rows x 18 columns]"
      ]
     },
     "execution_count": 184,
     "metadata": {},
     "output_type": "execute_result"
    }
   ],
   "source": [
    "training_data.reset_index(inplace=True, drop=True)\n",
    "training_data"
   ]
  },
  {
   "cell_type": "code",
   "execution_count": 185,
   "metadata": {},
   "outputs": [
    {
     "data": {
      "text/html": [
       "<div>\n",
       "<style scoped>\n",
       "    .dataframe tbody tr th:only-of-type {\n",
       "        vertical-align: middle;\n",
       "    }\n",
       "\n",
       "    .dataframe tbody tr th {\n",
       "        vertical-align: top;\n",
       "    }\n",
       "\n",
       "    .dataframe thead th {\n",
       "        text-align: right;\n",
       "    }\n",
       "</style>\n",
       "<table border=\"1\" class=\"dataframe\">\n",
       "  <thead>\n",
       "    <tr style=\"text-align: right;\">\n",
       "      <th></th>\n",
       "      <th>HeartDisease</th>\n",
       "      <th>BMI</th>\n",
       "      <th>Smoking</th>\n",
       "      <th>AlcoholDrinking</th>\n",
       "      <th>Stroke</th>\n",
       "      <th>PhysicalHealth</th>\n",
       "      <th>MentalHealth</th>\n",
       "      <th>DiffWalking</th>\n",
       "      <th>Sex</th>\n",
       "      <th>AgeCategory</th>\n",
       "      <th>Race</th>\n",
       "      <th>Diabetic</th>\n",
       "      <th>PhysicalActivity</th>\n",
       "      <th>GenHealth</th>\n",
       "      <th>SleepTime</th>\n",
       "      <th>Asthma</th>\n",
       "      <th>KidneyDisease</th>\n",
       "      <th>SkinCancer</th>\n",
       "    </tr>\n",
       "  </thead>\n",
       "  <tbody>\n",
       "    <tr>\n",
       "      <th>0</th>\n",
       "      <td>0</td>\n",
       "      <td>0.171714</td>\n",
       "      <td>1</td>\n",
       "      <td>0</td>\n",
       "      <td>0</td>\n",
       "      <td>-0.437546</td>\n",
       "      <td>-0.506319</td>\n",
       "      <td>1</td>\n",
       "      <td>1</td>\n",
       "      <td>8</td>\n",
       "      <td>4</td>\n",
       "      <td>0</td>\n",
       "      <td>0</td>\n",
       "      <td>4</td>\n",
       "      <td>-0.742412</td>\n",
       "      <td>0</td>\n",
       "      <td>0</td>\n",
       "      <td>0</td>\n",
       "    </tr>\n",
       "    <tr>\n",
       "      <th>1</th>\n",
       "      <td>0</td>\n",
       "      <td>3.722463</td>\n",
       "      <td>0</td>\n",
       "      <td>0</td>\n",
       "      <td>0</td>\n",
       "      <td>-0.437546</td>\n",
       "      <td>-0.506319</td>\n",
       "      <td>0</td>\n",
       "      <td>1</td>\n",
       "      <td>4</td>\n",
       "      <td>4</td>\n",
       "      <td>2</td>\n",
       "      <td>0</td>\n",
       "      <td>2</td>\n",
       "      <td>-0.742412</td>\n",
       "      <td>0</td>\n",
       "      <td>0</td>\n",
       "      <td>0</td>\n",
       "    </tr>\n",
       "    <tr>\n",
       "      <th>2</th>\n",
       "      <td>0</td>\n",
       "      <td>-1.382997</td>\n",
       "      <td>0</td>\n",
       "      <td>0</td>\n",
       "      <td>0</td>\n",
       "      <td>-0.437546</td>\n",
       "      <td>-0.506319</td>\n",
       "      <td>0</td>\n",
       "      <td>0</td>\n",
       "      <td>6</td>\n",
       "      <td>4</td>\n",
       "      <td>0</td>\n",
       "      <td>1</td>\n",
       "      <td>4</td>\n",
       "      <td>-0.058196</td>\n",
       "      <td>0</td>\n",
       "      <td>0</td>\n",
       "      <td>0</td>\n",
       "    </tr>\n",
       "    <tr>\n",
       "      <th>3</th>\n",
       "      <td>0</td>\n",
       "      <td>0.696661</td>\n",
       "      <td>1</td>\n",
       "      <td>0</td>\n",
       "      <td>0</td>\n",
       "      <td>-0.437546</td>\n",
       "      <td>-0.506319</td>\n",
       "      <td>0</td>\n",
       "      <td>0</td>\n",
       "      <td>3</td>\n",
       "      <td>4</td>\n",
       "      <td>0</td>\n",
       "      <td>1</td>\n",
       "      <td>4</td>\n",
       "      <td>0.626020</td>\n",
       "      <td>1</td>\n",
       "      <td>0</td>\n",
       "      <td>0</td>\n",
       "    </tr>\n",
       "    <tr>\n",
       "      <th>4</th>\n",
       "      <td>1</td>\n",
       "      <td>1.359426</td>\n",
       "      <td>1</td>\n",
       "      <td>0</td>\n",
       "      <td>1</td>\n",
       "      <td>2.643072</td>\n",
       "      <td>-0.259652</td>\n",
       "      <td>1</td>\n",
       "      <td>0</td>\n",
       "      <td>8</td>\n",
       "      <td>4</td>\n",
       "      <td>0</td>\n",
       "      <td>0</td>\n",
       "      <td>1</td>\n",
       "      <td>0.626020</td>\n",
       "      <td>0</td>\n",
       "      <td>0</td>\n",
       "      <td>0</td>\n",
       "    </tr>\n",
       "    <tr>\n",
       "      <th>...</th>\n",
       "      <td>...</td>\n",
       "      <td>...</td>\n",
       "      <td>...</td>\n",
       "      <td>...</td>\n",
       "      <td>...</td>\n",
       "      <td>...</td>\n",
       "      <td>...</td>\n",
       "      <td>...</td>\n",
       "      <td>...</td>\n",
       "      <td>...</td>\n",
       "      <td>...</td>\n",
       "      <td>...</td>\n",
       "      <td>...</td>\n",
       "      <td>...</td>\n",
       "      <td>...</td>\n",
       "      <td>...</td>\n",
       "      <td>...</td>\n",
       "      <td>...</td>\n",
       "    </tr>\n",
       "    <tr>\n",
       "      <th>59300</th>\n",
       "      <td>0</td>\n",
       "      <td>-0.012559</td>\n",
       "      <td>0</td>\n",
       "      <td>0</td>\n",
       "      <td>0</td>\n",
       "      <td>-0.437546</td>\n",
       "      <td>-0.506319</td>\n",
       "      <td>1</td>\n",
       "      <td>0</td>\n",
       "      <td>9</td>\n",
       "      <td>4</td>\n",
       "      <td>0</td>\n",
       "      <td>1</td>\n",
       "      <td>2</td>\n",
       "      <td>-0.742412</td>\n",
       "      <td>1</td>\n",
       "      <td>0</td>\n",
       "      <td>0</td>\n",
       "    </tr>\n",
       "    <tr>\n",
       "      <th>59301</th>\n",
       "      <td>0</td>\n",
       "      <td>0.219718</td>\n",
       "      <td>0</td>\n",
       "      <td>0</td>\n",
       "      <td>0</td>\n",
       "      <td>-0.437546</td>\n",
       "      <td>-0.506319</td>\n",
       "      <td>0</td>\n",
       "      <td>1</td>\n",
       "      <td>8</td>\n",
       "      <td>4</td>\n",
       "      <td>0</td>\n",
       "      <td>1</td>\n",
       "      <td>2</td>\n",
       "      <td>-0.742412</td>\n",
       "      <td>0</td>\n",
       "      <td>0</td>\n",
       "      <td>0</td>\n",
       "    </tr>\n",
       "    <tr>\n",
       "      <th>59302</th>\n",
       "      <td>0</td>\n",
       "      <td>-0.515827</td>\n",
       "      <td>1</td>\n",
       "      <td>0</td>\n",
       "      <td>0</td>\n",
       "      <td>-0.437546</td>\n",
       "      <td>-0.506319</td>\n",
       "      <td>1</td>\n",
       "      <td>1</td>\n",
       "      <td>12</td>\n",
       "      <td>4</td>\n",
       "      <td>0</td>\n",
       "      <td>0</td>\n",
       "      <td>0</td>\n",
       "      <td>0.626020</td>\n",
       "      <td>0</td>\n",
       "      <td>0</td>\n",
       "      <td>0</td>\n",
       "    </tr>\n",
       "    <tr>\n",
       "      <th>59303</th>\n",
       "      <td>0</td>\n",
       "      <td>1.430658</td>\n",
       "      <td>0</td>\n",
       "      <td>0</td>\n",
       "      <td>0</td>\n",
       "      <td>-0.191097</td>\n",
       "      <td>-0.506319</td>\n",
       "      <td>0</td>\n",
       "      <td>1</td>\n",
       "      <td>10</td>\n",
       "      <td>3</td>\n",
       "      <td>0</td>\n",
       "      <td>1</td>\n",
       "      <td>4</td>\n",
       "      <td>-0.742412</td>\n",
       "      <td>1</td>\n",
       "      <td>0</td>\n",
       "      <td>0</td>\n",
       "    </tr>\n",
       "    <tr>\n",
       "      <th>59304</th>\n",
       "      <td>0</td>\n",
       "      <td>-0.830176</td>\n",
       "      <td>0</td>\n",
       "      <td>0</td>\n",
       "      <td>0</td>\n",
       "      <td>-0.437546</td>\n",
       "      <td>-0.506319</td>\n",
       "      <td>0</td>\n",
       "      <td>1</td>\n",
       "      <td>3</td>\n",
       "      <td>0</td>\n",
       "      <td>0</td>\n",
       "      <td>1</td>\n",
       "      <td>0</td>\n",
       "      <td>-0.058196</td>\n",
       "      <td>0</td>\n",
       "      <td>0</td>\n",
       "      <td>0</td>\n",
       "    </tr>\n",
       "  </tbody>\n",
       "</table>\n",
       "<p>59305 rows × 18 columns</p>\n",
       "</div>"
      ],
      "text/plain": [
       "       HeartDisease       BMI  Smoking  AlcoholDrinking  Stroke  \\\n",
       "0                 0  0.171714        1                0       0   \n",
       "1                 0  3.722463        0                0       0   \n",
       "2                 0 -1.382997        0                0       0   \n",
       "3                 0  0.696661        1                0       0   \n",
       "4                 1  1.359426        1                0       1   \n",
       "...             ...       ...      ...              ...     ...   \n",
       "59300             0 -0.012559        0                0       0   \n",
       "59301             0  0.219718        0                0       0   \n",
       "59302             0 -0.515827        1                0       0   \n",
       "59303             0  1.430658        0                0       0   \n",
       "59304             0 -0.830176        0                0       0   \n",
       "\n",
       "       PhysicalHealth  MentalHealth  DiffWalking  Sex  AgeCategory  Race  \\\n",
       "0           -0.437546     -0.506319            1    1            8     4   \n",
       "1           -0.437546     -0.506319            0    1            4     4   \n",
       "2           -0.437546     -0.506319            0    0            6     4   \n",
       "3           -0.437546     -0.506319            0    0            3     4   \n",
       "4            2.643072     -0.259652            1    0            8     4   \n",
       "...               ...           ...          ...  ...          ...   ...   \n",
       "59300       -0.437546     -0.506319            1    0            9     4   \n",
       "59301       -0.437546     -0.506319            0    1            8     4   \n",
       "59302       -0.437546     -0.506319            1    1           12     4   \n",
       "59303       -0.191097     -0.506319            0    1           10     3   \n",
       "59304       -0.437546     -0.506319            0    1            3     0   \n",
       "\n",
       "       Diabetic  PhysicalActivity  GenHealth  SleepTime  Asthma  \\\n",
       "0             0                 0          4  -0.742412       0   \n",
       "1             2                 0          2  -0.742412       0   \n",
       "2             0                 1          4  -0.058196       0   \n",
       "3             0                 1          4   0.626020       1   \n",
       "4             0                 0          1   0.626020       0   \n",
       "...         ...               ...        ...        ...     ...   \n",
       "59300         0                 1          2  -0.742412       1   \n",
       "59301         0                 1          2  -0.742412       0   \n",
       "59302         0                 0          0   0.626020       0   \n",
       "59303         0                 1          4  -0.742412       1   \n",
       "59304         0                 1          0  -0.058196       0   \n",
       "\n",
       "       KidneyDisease  SkinCancer  \n",
       "0                  0           0  \n",
       "1                  0           0  \n",
       "2                  0           0  \n",
       "3                  0           0  \n",
       "4                  0           0  \n",
       "...              ...         ...  \n",
       "59300              0           0  \n",
       "59301              0           0  \n",
       "59302              0           0  \n",
       "59303              0           0  \n",
       "59304              0           0  \n",
       "\n",
       "[59305 rows x 18 columns]"
      ]
     },
     "execution_count": 185,
     "metadata": {},
     "output_type": "execute_result"
    }
   ],
   "source": [
    "testing_data.reset_index(inplace=True, drop=True)\n",
    "testing_data"
   ]
  },
  {
   "cell_type": "code",
   "execution_count": 188,
   "metadata": {},
   "outputs": [
    {
     "name": "stdout",
     "output_type": "stream",
     "text": [
      "Class 0 [Race = White]: (182116, 18)\n",
      "Class 1 [Race != White]: (55104, 18)\n"
     ]
    }
   ],
   "source": [
    "# class count\n",
    "class_counts = training_data['Race'].value_counts()\n",
    "\n",
    "# Separate class\n",
    "classes = [training_data[training_data['Race'] == i] for i in range (6)]\n",
    "class_5 = training_data[training_data['Race'] == 4]\n",
    "class_1 = training_data[training_data['Race'] != 4]\n",
    "\n",
    "print('Class 0 [Race = White]:', class_5.shape)\n",
    "print('Class 1 [Race != White]:', class_1.shape)"
   ]
  },
  {
   "cell_type": "code",
   "execution_count": 36,
   "metadata": {},
   "outputs": [],
   "source": [
    "class_count_0 = class_0.shape[0]\n",
    "class_count_1 = class_0.shape[0]"
   ]
  },
  {
   "cell_type": "code",
   "execution_count": 190,
   "metadata": {},
   "outputs": [
    {
     "data": {
      "text/plain": [
       "Race\n",
       "4    182116\n",
       "2     21688\n",
       "1     18212\n",
       "3      8718\n",
       "0      6486\n",
       "Name: count, dtype: int64"
      ]
     },
     "execution_count": 190,
     "metadata": {},
     "output_type": "execute_result"
    }
   ],
   "source": [
    "counts = training_data['Race'].value_counts()\n",
    "counts"
   ]
  },
  {
   "cell_type": "code",
   "execution_count": 35,
   "metadata": {},
   "outputs": [],
   "source": [
    "race = {4: \"White\", 2: \"Hispanic\", 1: \"Black\", 3: \"Other\", 0: \"Asian\"}"
   ]
  },
  {
   "cell_type": "code",
   "execution_count": 193,
   "metadata": {},
   "outputs": [
    {
     "name": "stdout",
     "output_type": "stream",
     "text": [
      "0.23229070061546245\n"
     ]
    }
   ],
   "source": [
    "num_races = len(counts.items())\n",
    "\n",
    "counts = training_data['Race'].value_counts()\n",
    "counts = dict(counts)\n",
    "counts\n",
    "\n",
    "total = 0\n",
    "nonwhite = 0\n",
    "\n",
    "for race, num in counts.items():\n",
    "    if race != num_races - 1:\n",
    "        nonwhite += num\n",
    "    total += num\n",
    "\n",
    "percent_nonwhite = float(nonwhite) / total\n",
    "print (percent_nonwhite)"
   ]
  },
  {
   "cell_type": "code",
   "execution_count": 194,
   "metadata": {},
   "outputs": [
    {
     "data": {
      "image/png": "[encoded data removed]",
      "text/plain": [
       "<Figure size 640x480 with 4 Axes>"
      ]
     },
     "metadata": {},
     "output_type": "display_data"
    }
   ],
   "source": [
    "num_races = len(counts.items())\n",
    "\n",
    "target_dist_1 = np.array([percent_nonwhite / (num_races - 1) for i in range (num_races - 1)] + [1 - (percent_nonwhite)])\n",
    "target_dist_4 = np.array([1.0 / num_races for i in range (num_races)])\n",
    "\n",
    "target_dist_2 = (target_dist_1 * 2 + target_dist_4) / 3\n",
    "target_dist_3 = (target_dist_1 + target_dist_4 * 2) / 3\n",
    "\n",
    "fig, ((ax1, ax2), (ax3, ax4)) = plt.subplots(2, 2)\n",
    "\n",
    "ax1.bar(counts.keys(), target_dist_1)\n",
    "ax2.bar(counts.keys(), target_dist_2)\n",
    "ax3.bar(counts.keys(), target_dist_3)\n",
    "ax4.bar(counts.keys(), target_dist_4)\n",
    "\n",
    "plt.show()"
   ]
  },
  {
   "cell_type": "markdown",
   "metadata": {},
   "source": [
    "### 7.1 Random Under-sampling"
   ]
  },
  {
   "cell_type": "code",
   "execution_count": 195,
   "metadata": {},
   "outputs": [
    {
     "data": {
      "text/plain": [
       "{4: 182116, 2: 21688, 1: 18212, 3: 8718, 0: 6486}"
      ]
     },
     "execution_count": 195,
     "metadata": {},
     "output_type": "execute_result"
    }
   ],
   "source": [
    "counts # 0 is the limiting factor"
   ]
  },
  {
   "cell_type": "code",
   "execution_count": 196,
   "metadata": {},
   "outputs": [],
   "source": [
    "min_count_nonwhite = counts[0]\n",
    "for i in range (num_races - 1):\n",
    "    min_count_nonwhite = min(min_count_nonwhite, counts[i])"
   ]
  },
  {
   "cell_type": "code",
   "execution_count": 58,
   "metadata": {},
   "outputs": [
    {
     "data": {
      "text/plain": [
       "12140.6"
      ]
     },
     "execution_count": 58,
     "metadata": {},
     "output_type": "execute_result"
    }
   ],
   "source": [
    "182109 / 15.0"
   ]
  },
  {
   "cell_type": "code",
   "execution_count": 54,
   "metadata": {},
   "outputs": [
    {
     "data": {
      "text/plain": [
       "11852.8"
      ]
     },
     "execution_count": 54,
     "metadata": {},
     "output_type": "execute_result"
    }
   ],
   "source": [
    "counts[5] * target_dist_1[0] / target_dist_1[5]"
   ]
  },
  {
   "cell_type": "code",
   "execution_count": 198,
   "metadata": {},
   "outputs": [
    {
     "data": {
      "text/plain": [
       "6486"
      ]
     },
     "execution_count": 198,
     "metadata": {},
     "output_type": "execute_result"
    }
   ],
   "source": [
    "min_count_nonwhite = min(min_count_nonwhite, float(counts[num_races - 1] * target_dist_1[0]) / target_dist_1[num_races - 1])\n",
    "min_count_nonwhite = int(min_count_nonwhite)\n",
    "\n",
    "min_count_nonwhite"
   ]
  },
  {
   "cell_type": "code",
   "execution_count": 199,
   "metadata": {},
   "outputs": [],
   "source": [
    "target_dists = [target_dist_1, target_dist_2, target_dist_3, target_dist_4]"
   ]
  },
  {
   "cell_type": "code",
   "execution_count": 201,
   "metadata": {},
   "outputs": [],
   "source": [
    "count_dists = []\n",
    "for target_dist in target_dists:\n",
    "    min_count_nonwhite = counts[0]\n",
    "    for i in range (num_races - 1):\n",
    "        min_count_nonwhite = min(min_count_nonwhite, counts[i])\n",
    "    \n",
    "    min_count_nonwhite = min(min_count_nonwhite, float(counts[num_races - 1] * target_dist[0]) / target_dist[num_races - 1])\n",
    "    min_count_nonwhite = int(min_count_nonwhite)\n",
    "\n",
    "    count_dists.append([int(float(min_count_nonwhite * target_dist[i]) / target_dist[0]) for i in range (num_races)])"
   ]
  },
  {
   "cell_type": "code",
   "execution_count": 202,
   "metadata": {},
   "outputs": [
    {
     "data": {
      "text/plain": [
       "[[6486, 6486, 6486, 6486, 85743],\n",
       " [6486, 6486, 6486, 6486, 35603],\n",
       " [6486, 6486, 6486, 6486, 16533],\n",
       " [6486, 6486, 6486, 6486, 6486]]"
      ]
     },
     "execution_count": 202,
     "metadata": {},
     "output_type": "execute_result"
    }
   ],
   "source": [
    "count_dists"
   ]
  },
  {
   "cell_type": "code",
   "execution_count": 203,
   "metadata": {},
   "outputs": [],
   "source": [
    "classes = [training_data[training_data['Race'] == i] for i in range (num_races)]\n",
    "\n",
    "training_data_list = [training_data]\n",
    "training_data_list += [pd.concat([classes[i].sample(count_dists[j][i]) for i in range (num_races)], axis=0) for j in range (4)]"
   ]
  },
  {
   "cell_type": "code",
   "execution_count": 207,
   "metadata": {},
   "outputs": [
    {
     "name": "stdout",
     "output_type": "stream",
     "text": [
      "Total counts:\n",
      "Race\n",
      "4    182116\n",
      "2     21688\n",
      "1     18212\n",
      "3      8718\n",
      "0      6486\n",
      "Name: count, dtype: int64\n"
     ]
    },
    {
     "data": {
      "image/png": "[encoded data removed]",
      "text/plain": [
       "<Figure size 640x480 with 1 Axes>"
      ]
     },
     "metadata": {},
     "output_type": "display_data"
    }
   ],
   "source": [
    "# plot the count after under-sampling\n",
    "print(\"Total counts:\")\n",
    "print(training_data_list[0]['Race'].value_counts())\n",
    "training_data_list[3]['Race'].value_counts().plot(kind='bar', title='count (target)')\n",
    "plt.show()"
   ]
  },
  {
   "cell_type": "code",
   "execution_count": 208,
   "metadata": {},
   "outputs": [],
   "source": [
    "X_test = testing_data.drop(['HeartDisease'], axis=1)\n",
    "y_test = testing_data['HeartDisease']\n",
    "\n",
    "X_train_list = [training_data.drop(['HeartDisease'], axis=1) for training_data in training_data_list]\n",
    "y_train_list = [training_data['HeartDisease'] for training_data in training_data_list]\n",
    "\n",
    "data_desc = ['Imbalanced', 'Undersampling Level 1', 'Undersampling Level 2', 'Undersampling Level 3', 'Undersampling Level 4']"
   ]
  },
  {
   "cell_type": "code",
   "execution_count": 209,
   "metadata": {},
   "outputs": [],
   "source": [
    "from sklearn.metrics import recall_score"
   ]
  },
  {
   "cell_type": "code",
   "execution_count": 146,
   "metadata": {},
   "outputs": [
    {
     "name": "stdout",
     "output_type": "stream",
     "text": [
      "---------------------------------------------------------------------------\n",
      "MODEL WITH TRAINING DATA 0 (IMBALANCED):\n",
      "\n",
      "241373 training examples\n",
      "Epoch 1/30\n",
      "6789/6789 [==============================] - 4s 560us/step - loss: 0.2491 - accuracy: 0.9101 - val_loss: 0.2459 - val_accuracy: 0.9095\n",
      "Epoch 2/30\n",
      "6789/6789 [==============================] - 4s 533us/step - loss: 0.2398 - accuracy: 0.9109 - val_loss: 0.2445 - val_accuracy: 0.9098\n",
      "Epoch 3/30\n",
      "6789/6789 [==============================] - 4s 565us/step - loss: 0.2386 - accuracy: 0.9110 - val_loss: 0.2429 - val_accuracy: 0.9093\n",
      "Epoch 4/30\n",
      "6789/6789 [==============================] - 4s 537us/step - loss: 0.2379 - accuracy: 0.9108 - val_loss: 0.2472 - val_accuracy: 0.9098\n",
      "Epoch 5/30\n",
      "6789/6789 [==============================] - 4s 557us/step - loss: 0.2377 - accuracy: 0.9110 - val_loss: 0.2423 - val_accuracy: 0.9095\n",
      "Epoch 6/30\n",
      "6789/6789 [==============================] - 4s 534us/step - loss: 0.2374 - accuracy: 0.9111 - val_loss: 0.2425 - val_accuracy: 0.9090\n",
      "Epoch 7/30\n",
      "6789/6789 [==============================] - 4s 518us/step - loss: 0.2371 - accuracy: 0.9112 - val_loss: 0.2439 - val_accuracy: 0.9104\n",
      "Epoch 8/30\n",
      "6789/6789 [==============================] - 4s 525us/step - loss: 0.2370 - accuracy: 0.9110 - val_loss: 0.2414 - val_accuracy: 0.9099\n",
      "Epoch 9/30\n",
      "6789/6789 [==============================] - 4s 516us/step - loss: 0.2368 - accuracy: 0.9110 - val_loss: 0.2427 - val_accuracy: 0.9096\n",
      "Epoch 10/30\n",
      "6789/6789 [==============================] - 4s 521us/step - loss: 0.2367 - accuracy: 0.9112 - val_loss: 0.2411 - val_accuracy: 0.9103\n",
      "Epoch 11/30\n",
      "6789/6789 [==============================] - 4s 523us/step - loss: 0.2366 - accuracy: 0.9111 - val_loss: 0.2414 - val_accuracy: 0.9103\n",
      "Epoch 12/30\n",
      "6789/6789 [==============================] - 4s 523us/step - loss: 0.2364 - accuracy: 0.9111 - val_loss: 0.2413 - val_accuracy: 0.9094\n",
      "Epoch 13/30\n",
      "6789/6789 [==============================] - 4s 536us/step - loss: 0.2363 - accuracy: 0.9112 - val_loss: 0.2413 - val_accuracy: 0.9096\n",
      "Epoch 14/30\n",
      "6789/6789 [==============================] - 4s 523us/step - loss: 0.2362 - accuracy: 0.9111 - val_loss: 0.2418 - val_accuracy: 0.9097\n",
      "Epoch 15/30\n",
      "6789/6789 [==============================] - 4s 619us/step - loss: 0.2362 - accuracy: 0.9112 - val_loss: 0.2407 - val_accuracy: 0.9101\n",
      "Epoch 16/30\n",
      "6789/6789 [==============================] - 4s 603us/step - loss: 0.2361 - accuracy: 0.9112 - val_loss: 0.2403 - val_accuracy: 0.9100\n",
      "Epoch 17/30\n",
      "6789/6789 [==============================] - 4s 553us/step - loss: 0.2361 - accuracy: 0.9112 - val_loss: 0.2407 - val_accuracy: 0.9103\n",
      "Epoch 18/30\n",
      "6789/6789 [==============================] - 4s 553us/step - loss: 0.2360 - accuracy: 0.9112 - val_loss: 0.2408 - val_accuracy: 0.9101\n",
      "Epoch 19/30\n",
      "6789/6789 [==============================] - 4s 553us/step - loss: 0.2359 - accuracy: 0.9113 - val_loss: 0.2405 - val_accuracy: 0.9096\n",
      "Epoch 20/30\n",
      "6789/6789 [==============================] - 4s 561us/step - loss: 0.2359 - accuracy: 0.9111 - val_loss: 0.2408 - val_accuracy: 0.9097\n",
      "Epoch 21/30\n",
      "6789/6789 [==============================] - 4s 592us/step - loss: 0.2359 - accuracy: 0.9111 - val_loss: 0.2409 - val_accuracy: 0.9100\n",
      "Epoch 22/30\n",
      "6789/6789 [==============================] - 4s 569us/step - loss: 0.2359 - accuracy: 0.9113 - val_loss: 0.2404 - val_accuracy: 0.9097\n",
      "Epoch 23/30\n",
      "6789/6789 [==============================] - 4s 566us/step - loss: 0.2357 - accuracy: 0.9112 - val_loss: 0.2405 - val_accuracy: 0.9104\n",
      "Epoch 24/30\n",
      "6789/6789 [==============================] - 4s 552us/step - loss: 0.2357 - accuracy: 0.9112 - val_loss: 0.2404 - val_accuracy: 0.9098\n",
      "Epoch 25/30\n",
      "6789/6789 [==============================] - 4s 556us/step - loss: 0.2357 - accuracy: 0.9113 - val_loss: 0.2411 - val_accuracy: 0.9102\n",
      "Epoch 26/30\n",
      "6789/6789 [==============================] - 4s 547us/step - loss: 0.2356 - accuracy: 0.9111 - val_loss: 0.2428 - val_accuracy: 0.9106\n",
      "Epoch 27/30\n",
      "6789/6789 [==============================] - 4s 550us/step - loss: 0.2357 - accuracy: 0.9112 - val_loss: 0.2413 - val_accuracy: 0.9101\n",
      "Epoch 28/30\n",
      "6789/6789 [==============================] - 4s 561us/step - loss: 0.2356 - accuracy: 0.9112 - val_loss: 0.2407 - val_accuracy: 0.9101\n",
      "Epoch 29/30\n",
      "6789/6789 [==============================] - 4s 576us/step - loss: 0.2356 - accuracy: 0.9113 - val_loss: 0.2416 - val_accuracy: 0.9098\n",
      "Epoch 30/30\n",
      "6789/6789 [==============================] - 4s 554us/step - loss: 0.2356 - accuracy: 0.9112 - val_loss: 0.2447 - val_accuracy: 0.9079\n",
      "1886/1886 [==============================] - 1s 381us/step\n",
      "Classification report:\n",
      "\n",
      "              precision    recall  f1-score   support\n",
      "\n",
      "           0       0.92      0.99      0.95     54925\n",
      "           1       0.49      0.13      0.21      5419\n",
      "\n",
      "    accuracy                           0.91     60344\n",
      "   macro avg       0.71      0.56      0.58     60344\n",
      "weighted avg       0.88      0.91      0.89     60344\n",
      "\n"
     ]
    },
    {
     "data": {
      "image/png": "[encoded data removed]",
      "text/plain": [
       "<Figure size 640x480 with 1 Axes>"
      ]
     },
     "metadata": {},
     "output_type": "display_data"
    },
    {
     "name": "stdout",
     "output_type": "stream",
     "text": [
      "---------------------------------------------------------------------------\n",
      "---------------------------------------------------------------------------\n",
      "MODEL WITH TRAINING DATA 1 (UNDERSAMPLING LEVEL 1):\n",
      "\n",
      "85163 training examples\n",
      "Epoch 1/30\n",
      "2396/2396 [==============================] - 2s 596us/step - loss: 0.2786 - accuracy: 0.8991 - val_loss: 0.2680 - val_accuracy: 0.8979\n",
      "Epoch 2/30\n",
      "2396/2396 [==============================] - 1s 540us/step - loss: 0.2478 - accuracy: 0.9083 - val_loss: 0.2664 - val_accuracy: 0.8975\n",
      "Epoch 3/30\n",
      "2396/2396 [==============================] - 1s 548us/step - loss: 0.2457 - accuracy: 0.9089 - val_loss: 0.2642 - val_accuracy: 0.8982\n",
      "Epoch 4/30\n",
      "2396/2396 [==============================] - 1s 566us/step - loss: 0.2438 - accuracy: 0.9093 - val_loss: 0.2643 - val_accuracy: 0.8974\n",
      "Epoch 5/30\n",
      "2396/2396 [==============================] - 1s 549us/step - loss: 0.2426 - accuracy: 0.9095 - val_loss: 0.2679 - val_accuracy: 0.8969\n",
      "Epoch 6/30\n",
      "2396/2396 [==============================] - 1s 542us/step - loss: 0.2419 - accuracy: 0.9096 - val_loss: 0.2655 - val_accuracy: 0.8974\n",
      "Epoch 7/30\n",
      "2396/2396 [==============================] - 1s 562us/step - loss: 0.2415 - accuracy: 0.9096 - val_loss: 0.2647 - val_accuracy: 0.8979\n",
      "Epoch 8/30\n",
      "2396/2396 [==============================] - 1s 552us/step - loss: 0.2411 - accuracy: 0.9101 - val_loss: 0.2636 - val_accuracy: 0.8975\n",
      "Epoch 9/30\n",
      "2396/2396 [==============================] - 1s 593us/step - loss: 0.2406 - accuracy: 0.9096 - val_loss: 0.2661 - val_accuracy: 0.8974\n",
      "Epoch 10/30\n",
      "2396/2396 [==============================] - 1s 586us/step - loss: 0.2403 - accuracy: 0.9097 - val_loss: 0.2647 - val_accuracy: 0.8988\n",
      "Epoch 11/30\n",
      "2396/2396 [==============================] - 1s 564us/step - loss: 0.2402 - accuracy: 0.9095 - val_loss: 0.2661 - val_accuracy: 0.8991\n",
      "Epoch 12/30\n",
      "2396/2396 [==============================] - 1s 574us/step - loss: 0.2399 - accuracy: 0.9096 - val_loss: 0.2638 - val_accuracy: 0.8983\n",
      "Epoch 13/30\n",
      "2396/2396 [==============================] - 1s 587us/step - loss: 0.2396 - accuracy: 0.9097 - val_loss: 0.2647 - val_accuracy: 0.8986\n",
      "Epoch 14/30\n",
      "2396/2396 [==============================] - 1s 548us/step - loss: 0.2394 - accuracy: 0.9096 - val_loss: 0.2648 - val_accuracy: 0.8970\n",
      "Epoch 15/30\n",
      "2396/2396 [==============================] - 2s 799us/step - loss: 0.2394 - accuracy: 0.9099 - val_loss: 0.2639 - val_accuracy: 0.8977\n",
      "Epoch 16/30\n",
      "2396/2396 [==============================] - 1s 588us/step - loss: 0.2391 - accuracy: 0.9098 - val_loss: 0.2630 - val_accuracy: 0.8989\n",
      "Epoch 17/30\n",
      "2396/2396 [==============================] - 1s 581us/step - loss: 0.2389 - accuracy: 0.9098 - val_loss: 0.2624 - val_accuracy: 0.8981\n",
      "Epoch 18/30\n",
      "2396/2396 [==============================] - 1s 552us/step - loss: 0.2388 - accuracy: 0.9096 - val_loss: 0.2641 - val_accuracy: 0.8976\n",
      "Epoch 19/30\n",
      "2396/2396 [==============================] - 1s 546us/step - loss: 0.2385 - accuracy: 0.9097 - val_loss: 0.2631 - val_accuracy: 0.8980\n",
      "Epoch 20/30\n",
      "2396/2396 [==============================] - 1s 572us/step - loss: 0.2386 - accuracy: 0.9098 - val_loss: 0.2647 - val_accuracy: 0.8981\n",
      "Epoch 21/30\n",
      "2396/2396 [==============================] - 1s 540us/step - loss: 0.2385 - accuracy: 0.9099 - val_loss: 0.2638 - val_accuracy: 0.8980\n",
      "Epoch 22/30\n",
      "2396/2396 [==============================] - 1s 598us/step - loss: 0.2384 - accuracy: 0.9097 - val_loss: 0.2635 - val_accuracy: 0.8987\n",
      "Epoch 23/30\n",
      "2396/2396 [==============================] - 1s 565us/step - loss: 0.2382 - accuracy: 0.9099 - val_loss: 0.2644 - val_accuracy: 0.8975\n",
      "Epoch 24/30\n",
      "2396/2396 [==============================] - 1s 581us/step - loss: 0.2380 - accuracy: 0.9098 - val_loss: 0.2666 - val_accuracy: 0.8973\n",
      "Epoch 25/30\n",
      "2396/2396 [==============================] - 1s 566us/step - loss: 0.2380 - accuracy: 0.9101 - val_loss: 0.2636 - val_accuracy: 0.8977\n",
      "Epoch 26/30\n",
      "2396/2396 [==============================] - 1s 553us/step - loss: 0.2379 - accuracy: 0.9101 - val_loss: 0.2633 - val_accuracy: 0.8984\n",
      "Epoch 27/30\n",
      "2396/2396 [==============================] - 1s 553us/step - loss: 0.2377 - accuracy: 0.9102 - val_loss: 0.2641 - val_accuracy: 0.8980\n",
      "Epoch 28/30\n",
      "2396/2396 [==============================] - 1s 560us/step - loss: 0.2376 - accuracy: 0.9102 - val_loss: 0.2631 - val_accuracy: 0.8982\n",
      "Epoch 29/30\n",
      "2396/2396 [==============================] - 1s 533us/step - loss: 0.2377 - accuracy: 0.9097 - val_loss: 0.2632 - val_accuracy: 0.8976\n",
      "Epoch 30/30\n",
      "2396/2396 [==============================] - 1s 556us/step - loss: 0.2377 - accuracy: 0.9101 - val_loss: 0.2632 - val_accuracy: 0.8982\n",
      "1886/1886 [==============================] - 1s 413us/step\n",
      "Classification report:\n",
      "\n",
      "              precision    recall  f1-score   support\n",
      "\n",
      "           0       0.92      0.99      0.95     54925\n",
      "           1       0.53      0.08      0.14      5419\n",
      "\n",
      "    accuracy                           0.91     60344\n",
      "   macro avg       0.72      0.54      0.55     60344\n",
      "weighted avg       0.88      0.91      0.88     60344\n",
      "\n"
     ]
    },
    {
     "data": {
      "image/png": "[encoded data removed]",
      "text/plain": [
       "<Figure size 640x480 with 1 Axes>"
      ]
     },
     "metadata": {},
     "output_type": "display_data"
    },
    {
     "name": "stdout",
     "output_type": "stream",
     "text": [
      "---------------------------------------------------------------------------\n",
      "---------------------------------------------------------------------------\n",
      "MODEL WITH TRAINING DATA 2 (UNDERSAMPLING LEVEL 2):\n",
      "\n",
      "47365 training examples\n",
      "Epoch 1/30\n",
      "1333/1333 [==============================] - 1s 606us/step - loss: 0.2528 - accuracy: 0.9161 - val_loss: 0.2735 - val_accuracy: 0.8987\n",
      "Epoch 2/30\n",
      "1333/1333 [==============================] - 1s 559us/step - loss: 0.2304 - accuracy: 0.9169 - val_loss: 0.2708 - val_accuracy: 0.8966\n",
      "Epoch 3/30\n",
      "1333/1333 [==============================] - 1s 582us/step - loss: 0.2272 - accuracy: 0.9168 - val_loss: 0.2698 - val_accuracy: 0.8982\n",
      "Epoch 4/30\n",
      "1333/1333 [==============================] - 1s 599us/step - loss: 0.2256 - accuracy: 0.9166 - val_loss: 0.2687 - val_accuracy: 0.8982\n",
      "Epoch 5/30\n",
      "1333/1333 [==============================] - 1s 594us/step - loss: 0.2248 - accuracy: 0.9173 - val_loss: 0.2707 - val_accuracy: 0.8978\n",
      "Epoch 6/30\n",
      "1333/1333 [==============================] - 1s 558us/step - loss: 0.2233 - accuracy: 0.9176 - val_loss: 0.2672 - val_accuracy: 0.8989\n",
      "Epoch 7/30\n",
      "1333/1333 [==============================] - 1s 557us/step - loss: 0.2228 - accuracy: 0.9172 - val_loss: 0.2659 - val_accuracy: 0.8974\n",
      "Epoch 8/30\n",
      "1333/1333 [==============================] - 1s 577us/step - loss: 0.2222 - accuracy: 0.9181 - val_loss: 0.2661 - val_accuracy: 0.8976\n",
      "Epoch 9/30\n",
      "1333/1333 [==============================] - 1s 734us/step - loss: 0.2214 - accuracy: 0.9181 - val_loss: 0.2644 - val_accuracy: 0.8974\n",
      "Epoch 10/30\n",
      "1333/1333 [==============================] - 1s 571us/step - loss: 0.2208 - accuracy: 0.9178 - val_loss: 0.2647 - val_accuracy: 0.8959\n",
      "Epoch 11/30\n",
      "1333/1333 [==============================] - 1s 550us/step - loss: 0.2207 - accuracy: 0.9180 - val_loss: 0.2663 - val_accuracy: 0.8991\n",
      "Epoch 12/30\n",
      "1333/1333 [==============================] - 1s 575us/step - loss: 0.2201 - accuracy: 0.9182 - val_loss: 0.2669 - val_accuracy: 0.8978\n",
      "Epoch 13/30\n",
      "1333/1333 [==============================] - 1s 648us/step - loss: 0.2198 - accuracy: 0.9179 - val_loss: 0.2691 - val_accuracy: 0.8989\n",
      "Epoch 14/30\n",
      "1333/1333 [==============================] - 1s 569us/step - loss: 0.2198 - accuracy: 0.9179 - val_loss: 0.2646 - val_accuracy: 0.8985\n",
      "Epoch 15/30\n",
      "1333/1333 [==============================] - 1s 549us/step - loss: 0.2194 - accuracy: 0.9178 - val_loss: 0.2638 - val_accuracy: 0.8985\n",
      "Epoch 16/30\n",
      "1333/1333 [==============================] - 1s 744us/step - loss: 0.2192 - accuracy: 0.9178 - val_loss: 0.2709 - val_accuracy: 0.8976\n",
      "Epoch 17/30\n",
      "1333/1333 [==============================] - 1s 553us/step - loss: 0.2191 - accuracy: 0.9178 - val_loss: 0.2654 - val_accuracy: 0.8982\n",
      "Epoch 18/30\n",
      "1333/1333 [==============================] - 1s 609us/step - loss: 0.2188 - accuracy: 0.9180 - val_loss: 0.2641 - val_accuracy: 0.8982\n",
      "Epoch 19/30\n",
      "1333/1333 [==============================] - 1s 549us/step - loss: 0.2190 - accuracy: 0.9176 - val_loss: 0.2646 - val_accuracy: 0.8978\n",
      "Epoch 20/30\n",
      "1333/1333 [==============================] - 1s 552us/step - loss: 0.2185 - accuracy: 0.9179 - val_loss: 0.2642 - val_accuracy: 0.8961\n",
      "Epoch 21/30\n",
      "1333/1333 [==============================] - 1s 561us/step - loss: 0.2187 - accuracy: 0.9178 - val_loss: 0.2648 - val_accuracy: 0.8989\n",
      "Epoch 22/30\n",
      "1333/1333 [==============================] - 1s 616us/step - loss: 0.2182 - accuracy: 0.9182 - val_loss: 0.2647 - val_accuracy: 0.8987\n",
      "Epoch 23/30\n",
      "1333/1333 [==============================] - 1s 554us/step - loss: 0.2184 - accuracy: 0.9181 - val_loss: 0.2687 - val_accuracy: 0.8982\n",
      "Epoch 24/30\n",
      "1333/1333 [==============================] - 1s 547us/step - loss: 0.2180 - accuracy: 0.9177 - val_loss: 0.2652 - val_accuracy: 0.8978\n",
      "Epoch 25/30\n",
      "1333/1333 [==============================] - 1s 551us/step - loss: 0.2184 - accuracy: 0.9180 - val_loss: 0.2655 - val_accuracy: 0.8972\n",
      "Epoch 26/30\n",
      "1333/1333 [==============================] - 1s 557us/step - loss: 0.2178 - accuracy: 0.9182 - val_loss: 0.2668 - val_accuracy: 0.8985\n",
      "Epoch 27/30\n",
      "1333/1333 [==============================] - 1s 602us/step - loss: 0.2177 - accuracy: 0.9182 - val_loss: 0.2645 - val_accuracy: 0.8978\n",
      "Epoch 28/30\n",
      "1333/1333 [==============================] - 1s 549us/step - loss: 0.2176 - accuracy: 0.9175 - val_loss: 0.2643 - val_accuracy: 0.8985\n",
      "Epoch 29/30\n",
      "1333/1333 [==============================] - 1s 543us/step - loss: 0.2179 - accuracy: 0.9182 - val_loss: 0.2661 - val_accuracy: 0.8982\n",
      "Epoch 30/30\n",
      "1333/1333 [==============================] - 1s 550us/step - loss: 0.2179 - accuracy: 0.9184 - val_loss: 0.2653 - val_accuracy: 0.8982\n",
      "1886/1886 [==============================] - 1s 428us/step\n",
      "Classification report:\n",
      "\n",
      "              precision    recall  f1-score   support\n",
      "\n",
      "           0       0.91      1.00      0.95     54925\n",
      "           1       0.55      0.05      0.09      5419\n",
      "\n",
      "    accuracy                           0.91     60344\n",
      "   macro avg       0.73      0.52      0.52     60344\n",
      "weighted avg       0.88      0.91      0.88     60344\n",
      "\n"
     ]
    },
    {
     "data": {
      "image/png": "[encoded data removed]",
      "text/plain": [
       "<Figure size 640x480 with 1 Axes>"
      ]
     },
     "metadata": {},
     "output_type": "display_data"
    },
    {
     "name": "stdout",
     "output_type": "stream",
     "text": [
      "---------------------------------------------------------------------------\n",
      "---------------------------------------------------------------------------\n",
      "MODEL WITH TRAINING DATA 3 (UNDERSAMPLING LEVEL 3):\n",
      "\n",
      "32805 training examples\n",
      "Epoch 1/30\n",
      "923/923 [==============================] - 1s 646us/step - loss: 0.2741 - accuracy: 0.9137 - val_loss: 0.2803 - val_accuracy: 0.9016\n",
      "Epoch 2/30\n",
      "923/923 [==============================] - 1s 553us/step - loss: 0.2264 - accuracy: 0.9224 - val_loss: 0.2626 - val_accuracy: 0.9000\n",
      "Epoch 3/30\n",
      "923/923 [==============================] - 1s 600us/step - loss: 0.2211 - accuracy: 0.9220 - val_loss: 0.2639 - val_accuracy: 0.9006\n",
      "Epoch 4/30\n",
      "923/923 [==============================] - 1s 624us/step - loss: 0.2186 - accuracy: 0.9226 - val_loss: 0.2581 - val_accuracy: 0.8994\n",
      "Epoch 5/30\n",
      "923/923 [==============================] - 1s 611us/step - loss: 0.2170 - accuracy: 0.9223 - val_loss: 0.2573 - val_accuracy: 0.9009\n",
      "Epoch 6/30\n",
      "923/923 [==============================] - 1s 649us/step - loss: 0.2152 - accuracy: 0.9231 - val_loss: 0.2564 - val_accuracy: 0.9000\n",
      "Epoch 7/30\n",
      "923/923 [==============================] - 1s 601us/step - loss: 0.2153 - accuracy: 0.9237 - val_loss: 0.2599 - val_accuracy: 0.9019\n",
      "Epoch 8/30\n",
      "923/923 [==============================] - 1s 551us/step - loss: 0.2140 - accuracy: 0.9234 - val_loss: 0.2534 - val_accuracy: 0.8988\n",
      "Epoch 9/30\n",
      "923/923 [==============================] - 1s 683us/step - loss: 0.2138 - accuracy: 0.9226 - val_loss: 0.2576 - val_accuracy: 0.9022\n",
      "Epoch 10/30\n",
      "923/923 [==============================] - 1s 595us/step - loss: 0.2134 - accuracy: 0.9230 - val_loss: 0.2588 - val_accuracy: 0.9016\n",
      "Epoch 11/30\n",
      "923/923 [==============================] - 1s 629us/step - loss: 0.2127 - accuracy: 0.9232 - val_loss: 0.2561 - val_accuracy: 0.9028\n",
      "Epoch 12/30\n",
      "923/923 [==============================] - 1s 673us/step - loss: 0.2131 - accuracy: 0.9234 - val_loss: 0.2582 - val_accuracy: 0.9022\n",
      "Epoch 13/30\n",
      "923/923 [==============================] - 1s 573us/step - loss: 0.2125 - accuracy: 0.9235 - val_loss: 0.2630 - val_accuracy: 0.9012\n",
      "Epoch 14/30\n",
      "923/923 [==============================] - 1s 637us/step - loss: 0.2120 - accuracy: 0.9230 - val_loss: 0.2595 - val_accuracy: 0.9019\n",
      "Epoch 15/30\n",
      "923/923 [==============================] - 1s 563us/step - loss: 0.2121 - accuracy: 0.9232 - val_loss: 0.2571 - val_accuracy: 0.9006\n",
      "Epoch 16/30\n",
      "923/923 [==============================] - 1s 580us/step - loss: 0.2111 - accuracy: 0.9239 - val_loss: 0.2595 - val_accuracy: 0.9028\n",
      "Epoch 17/30\n",
      "923/923 [==============================] - 1s 549us/step - loss: 0.2111 - accuracy: 0.9239 - val_loss: 0.2585 - val_accuracy: 0.9022\n",
      "Epoch 18/30\n",
      "923/923 [==============================] - 1s 603us/step - loss: 0.2110 - accuracy: 0.9237 - val_loss: 0.2669 - val_accuracy: 0.9016\n",
      "Epoch 19/30\n",
      "923/923 [==============================] - 0s 538us/step - loss: 0.2105 - accuracy: 0.9246 - val_loss: 0.2558 - val_accuracy: 0.9003\n",
      "Epoch 20/30\n",
      "923/923 [==============================] - 1s 560us/step - loss: 0.2104 - accuracy: 0.9232 - val_loss: 0.2565 - val_accuracy: 0.9016\n",
      "Epoch 21/30\n",
      "923/923 [==============================] - 1s 697us/step - loss: 0.2105 - accuracy: 0.9237 - val_loss: 0.2604 - val_accuracy: 0.8994\n",
      "Epoch 22/30\n",
      "923/923 [==============================] - 1s 549us/step - loss: 0.2102 - accuracy: 0.9235 - val_loss: 0.2585 - val_accuracy: 0.9016\n",
      "Epoch 23/30\n",
      "923/923 [==============================] - 1s 568us/step - loss: 0.2102 - accuracy: 0.9236 - val_loss: 0.2598 - val_accuracy: 0.9012\n",
      "Epoch 24/30\n",
      "923/923 [==============================] - 1s 595us/step - loss: 0.2094 - accuracy: 0.9240 - val_loss: 0.2577 - val_accuracy: 0.9022\n",
      "Epoch 25/30\n",
      "923/923 [==============================] - 1s 560us/step - loss: 0.2096 - accuracy: 0.9236 - val_loss: 0.2599 - val_accuracy: 0.9019\n",
      "Epoch 26/30\n",
      "923/923 [==============================] - 1s 597us/step - loss: 0.2091 - accuracy: 0.9251 - val_loss: 0.2610 - val_accuracy: 0.9009\n",
      "Epoch 27/30\n",
      "923/923 [==============================] - 1s 612us/step - loss: 0.2090 - accuracy: 0.9237 - val_loss: 0.2567 - val_accuracy: 0.9009\n",
      "Epoch 28/30\n",
      "923/923 [==============================] - 1s 597us/step - loss: 0.2088 - accuracy: 0.9246 - val_loss: 0.2664 - val_accuracy: 0.9016\n",
      "Epoch 29/30\n",
      "923/923 [==============================] - 1s 674us/step - loss: 0.2088 - accuracy: 0.9246 - val_loss: 0.2573 - val_accuracy: 0.9012\n",
      "Epoch 30/30\n",
      "923/923 [==============================] - 1s 665us/step - loss: 0.2084 - accuracy: 0.9252 - val_loss: 0.2634 - val_accuracy: 0.9016\n",
      "1886/1886 [==============================] - 1s 387us/step\n",
      "Classification report:\n",
      "\n",
      "              precision    recall  f1-score   support\n",
      "\n",
      "           0       0.91      1.00      0.95     54925\n",
      "           1       0.59      0.03      0.06      5419\n",
      "\n",
      "    accuracy                           0.91     60344\n",
      "   macro avg       0.75      0.52      0.51     60344\n",
      "weighted avg       0.88      0.91      0.87     60344\n",
      "\n"
     ]
    },
    {
     "data": {
      "image/png": "[encoded data removed]",
      "text/plain": [
       "<Figure size 640x480 with 1 Axes>"
      ]
     },
     "metadata": {},
     "output_type": "display_data"
    },
    {
     "name": "stdout",
     "output_type": "stream",
     "text": [
      "---------------------------------------------------------------------------\n",
      "---------------------------------------------------------------------------\n",
      "MODEL WITH TRAINING DATA 4 (UNDERSAMPLING LEVEL 4):\n",
      "\n",
      "25092 training examples\n",
      "Epoch 1/30\n",
      "706/706 [==============================] - 1s 703us/step - loss: 0.3573 - accuracy: 0.8714 - val_loss: 0.3149 - val_accuracy: 0.9028\n",
      "Epoch 2/30\n",
      "706/706 [==============================] - 0s 560us/step - loss: 0.2190 - accuracy: 0.9291 - val_loss: 0.2843 - val_accuracy: 0.9024\n",
      "Epoch 3/30\n",
      "706/706 [==============================] - 0s 617us/step - loss: 0.2082 - accuracy: 0.9298 - val_loss: 0.2728 - val_accuracy: 0.9020\n",
      "Epoch 4/30\n",
      "706/706 [==============================] - 0s 628us/step - loss: 0.2031 - accuracy: 0.9293 - val_loss: 0.2674 - val_accuracy: 0.9032\n",
      "Epoch 5/30\n",
      "706/706 [==============================] - 0s 565us/step - loss: 0.2007 - accuracy: 0.9295 - val_loss: 0.2753 - val_accuracy: 0.9016\n",
      "Epoch 6/30\n",
      "706/706 [==============================] - 0s 584us/step - loss: 0.1985 - accuracy: 0.9295 - val_loss: 0.2681 - val_accuracy: 0.9040\n",
      "Epoch 7/30\n",
      "706/706 [==============================] - 0s 590us/step - loss: 0.1979 - accuracy: 0.9298 - val_loss: 0.2636 - val_accuracy: 0.9012\n",
      "Epoch 8/30\n",
      "706/706 [==============================] - 0s 628us/step - loss: 0.1970 - accuracy: 0.9302 - val_loss: 0.2648 - val_accuracy: 0.9032\n",
      "Epoch 9/30\n",
      "706/706 [==============================] - 0s 587us/step - loss: 0.1959 - accuracy: 0.9303 - val_loss: 0.2628 - val_accuracy: 0.9048\n",
      "Epoch 10/30\n",
      "706/706 [==============================] - 0s 632us/step - loss: 0.1957 - accuracy: 0.9307 - val_loss: 0.2623 - val_accuracy: 0.9036\n",
      "Epoch 11/30\n",
      "706/706 [==============================] - 0s 575us/step - loss: 0.1948 - accuracy: 0.9299 - val_loss: 0.2657 - val_accuracy: 0.9032\n",
      "Epoch 12/30\n",
      "706/706 [==============================] - 0s 563us/step - loss: 0.1949 - accuracy: 0.9295 - val_loss: 0.2614 - val_accuracy: 0.9008\n",
      "Epoch 13/30\n",
      "706/706 [==============================] - 0s 643us/step - loss: 0.1942 - accuracy: 0.9307 - val_loss: 0.2631 - val_accuracy: 0.9024\n",
      "Epoch 14/30\n",
      "706/706 [==============================] - 0s 599us/step - loss: 0.1941 - accuracy: 0.9301 - val_loss: 0.2663 - val_accuracy: 0.9024\n",
      "Epoch 15/30\n",
      "706/706 [==============================] - 0s 589us/step - loss: 0.1933 - accuracy: 0.9299 - val_loss: 0.2603 - val_accuracy: 0.9032\n",
      "Epoch 16/30\n",
      "706/706 [==============================] - 0s 557us/step - loss: 0.1936 - accuracy: 0.9311 - val_loss: 0.2605 - val_accuracy: 0.9036\n",
      "Epoch 17/30\n",
      "706/706 [==============================] - 0s 573us/step - loss: 0.1930 - accuracy: 0.9297 - val_loss: 0.2673 - val_accuracy: 0.9028\n",
      "Epoch 18/30\n",
      "706/706 [==============================] - 0s 637us/step - loss: 0.1928 - accuracy: 0.9302 - val_loss: 0.2638 - val_accuracy: 0.9028\n",
      "Epoch 19/30\n",
      "706/706 [==============================] - 0s 600us/step - loss: 0.1926 - accuracy: 0.9307 - val_loss: 0.2600 - val_accuracy: 0.9020\n",
      "Epoch 20/30\n",
      "706/706 [==============================] - 1s 733us/step - loss: 0.1920 - accuracy: 0.9299 - val_loss: 0.2610 - val_accuracy: 0.9008\n",
      "Epoch 21/30\n",
      "706/706 [==============================] - 0s 579us/step - loss: 0.1917 - accuracy: 0.9301 - val_loss: 0.2606 - val_accuracy: 0.9040\n",
      "Epoch 22/30\n",
      "706/706 [==============================] - 0s 601us/step - loss: 0.1918 - accuracy: 0.9303 - val_loss: 0.2657 - val_accuracy: 0.9028\n",
      "Epoch 23/30\n",
      "706/706 [==============================] - 0s 555us/step - loss: 0.1917 - accuracy: 0.9307 - val_loss: 0.2611 - val_accuracy: 0.9024\n",
      "Epoch 24/30\n",
      "706/706 [==============================] - 0s 555us/step - loss: 0.1917 - accuracy: 0.9300 - val_loss: 0.2664 - val_accuracy: 0.9024\n",
      "Epoch 25/30\n",
      "706/706 [==============================] - 0s 559us/step - loss: 0.1910 - accuracy: 0.9305 - val_loss: 0.2658 - val_accuracy: 0.9028\n",
      "Epoch 26/30\n",
      "706/706 [==============================] - 0s 554us/step - loss: 0.1913 - accuracy: 0.9306 - val_loss: 0.2713 - val_accuracy: 0.9032\n",
      "Epoch 27/30\n",
      "706/706 [==============================] - 0s 581us/step - loss: 0.1911 - accuracy: 0.9303 - val_loss: 0.2652 - val_accuracy: 0.8992\n",
      "Epoch 28/30\n",
      "706/706 [==============================] - 0s 695us/step - loss: 0.1910 - accuracy: 0.9304 - val_loss: 0.2625 - val_accuracy: 0.9032\n",
      "Epoch 29/30\n",
      "706/706 [==============================] - 0s 605us/step - loss: 0.1910 - accuracy: 0.9306 - val_loss: 0.2625 - val_accuracy: 0.9008\n",
      "Epoch 30/30\n",
      "706/706 [==============================] - 0s 581us/step - loss: 0.1906 - accuracy: 0.9309 - val_loss: 0.2612 - val_accuracy: 0.9032\n",
      "1886/1886 [==============================] - 1s 423us/step\n",
      "Classification report:\n",
      "\n",
      "              precision    recall  f1-score   support\n",
      "\n",
      "           0       0.92      0.99      0.95     54925\n",
      "           1       0.49      0.09      0.16      5419\n",
      "\n",
      "    accuracy                           0.91     60344\n",
      "   macro avg       0.70      0.54      0.56     60344\n",
      "weighted avg       0.88      0.91      0.88     60344\n",
      "\n"
     ]
    },
    {
     "data": {
      "image/png": "[encoded data removed]",
      "text/plain": [
       "<Figure size 640x480 with 1 Axes>"
      ]
     },
     "metadata": {},
     "output_type": "display_data"
    },
    {
     "name": "stdout",
     "output_type": "stream",
     "text": [
      "---------------------------------------------------------------------------\n"
     ]
    }
   ],
   "source": [
    "from tensorflow.keras.models import Sequential\n",
    "from tensorflow.keras.layers import Dense\n",
    "\n",
    "for i in range(len(X_train_list)):\n",
    "    print(\"---------------------------------------------------------------------------\")\n",
    "    print(f\"Model with training data {i} ({data_desc[i]}):\\n\".upper())\n",
    "    print (str(X_train_list[i].shape[0]) + \" training examples\")\n",
    "    \n",
    "    # making model for logistic regression\n",
    "    model = Sequential()\n",
    "    model.add(Dense(32, input_dim=X_train_list[i].shape[1], activation='relu'))\n",
    "    model.add(Dense(1, activation='sigmoid'))\n",
    "\n",
    "    # Compile the model\n",
    "    model.compile(optimizer='adam', loss='binary_crossentropy', metrics=['accuracy'])\n",
    "\n",
    "    model.fit(X_train_list[i], y_train_list[i], epochs=30, batch_size=32, validation_split=0.1)\n",
    "\n",
    "    pred = model.predict(X_test).squeeze()\n",
    "    pred = (pred > 0.5).astype(int)\n",
    "    \n",
    "    df = pd.DataFrame({\n",
    "        'race': X_test[\"Race\"],\n",
    "        'predictions': pred,\n",
    "        'ground_truth': y_test\n",
    "    })\n",
    "\n",
    "    print(\"Classification report:\\n\")\n",
    "    print(classification_report(y_test,pred))\n",
    "\n",
    "    tp_rate_by_race = df.groupby('race').apply(lambda x: recall_score(x['ground_truth'], x['predictions']))\n",
    "    \n",
    "    plt.bar(tp_rate_by_race.index, tp_rate_by_race)\n",
    "    plt.xlabel('Race')\n",
    "    plt.ylabel('Recall')\n",
    "    plt.title('Recall Within Each Race')\n",
    "    plt.show()\n",
    "    print(\"---------------------------------------------------------------------------\")"
   ]
  },
  {
   "cell_type": "code",
   "execution_count": 210,
   "metadata": {},
   "outputs": [
    {
     "name": "stdout",
     "output_type": "stream",
     "text": [
      "---------------------------------------------------------------------------\n",
      "MODEL WITH TRAINING DATA 0 (IMBALANCED):\n",
      "\n",
      "237220 training examples\n",
      "Classification report:\n",
      "\n",
      "              precision    recall  f1-score   support\n",
      "\n",
      "           0       0.91      0.99      0.95     53857\n",
      "           1       0.53      0.09      0.15      5448\n",
      "\n",
      "    accuracy                           0.91     59305\n",
      "   macro avg       0.72      0.54      0.55     59305\n",
      "weighted avg       0.88      0.91      0.88     59305\n",
      "\n"
     ]
    },
    {
     "data": {
      "image/png": "[encoded data removed]",
      "text/plain": [
       "<Figure size 640x480 with 1 Axes>"
      ]
     },
     "metadata": {},
     "output_type": "display_data"
    },
    {
     "name": "stdout",
     "output_type": "stream",
     "text": [
      "---------------------------------------------------------------------------\n",
      "---------------------------------------------------------------------------\n",
      "MODEL WITH TRAINING DATA 1 (UNDERSAMPLING LEVEL 1):\n",
      "\n",
      "111687 training examples\n",
      "Classification report:\n",
      "\n",
      "              precision    recall  f1-score   support\n",
      "\n",
      "           0       0.91      0.99      0.95     53857\n",
      "           1       0.54      0.09      0.15      5448\n",
      "\n",
      "    accuracy                           0.91     59305\n",
      "   macro avg       0.73      0.54      0.55     59305\n",
      "weighted avg       0.88      0.91      0.88     59305\n",
      "\n"
     ]
    },
    {
     "data": {
      "image/png": "[encoded data removed]",
      "text/plain": [
       "<Figure size 640x480 with 1 Axes>"
      ]
     },
     "metadata": {},
     "output_type": "display_data"
    },
    {
     "name": "stdout",
     "output_type": "stream",
     "text": [
      "---------------------------------------------------------------------------\n",
      "---------------------------------------------------------------------------\n",
      "MODEL WITH TRAINING DATA 2 (UNDERSAMPLING LEVEL 2):\n",
      "\n",
      "61547 training examples\n",
      "Classification report:\n",
      "\n",
      "              precision    recall  f1-score   support\n",
      "\n",
      "           0       0.92      0.99      0.95     53857\n",
      "           1       0.54      0.09      0.16      5448\n",
      "\n",
      "    accuracy                           0.91     59305\n",
      "   macro avg       0.73      0.54      0.56     59305\n",
      "weighted avg       0.88      0.91      0.88     59305\n",
      "\n"
     ]
    },
    {
     "data": {
      "image/png": "[encoded data removed]",
      "text/plain": [
       "<Figure size 640x480 with 1 Axes>"
      ]
     },
     "metadata": {},
     "output_type": "display_data"
    },
    {
     "name": "stdout",
     "output_type": "stream",
     "text": [
      "---------------------------------------------------------------------------\n",
      "---------------------------------------------------------------------------\n",
      "MODEL WITH TRAINING DATA 3 (UNDERSAMPLING LEVEL 3):\n",
      "\n",
      "42477 training examples\n",
      "Classification report:\n",
      "\n",
      "              precision    recall  f1-score   support\n",
      "\n",
      "           0       0.92      0.99      0.95     53857\n",
      "           1       0.54      0.10      0.17      5448\n",
      "\n",
      "    accuracy                           0.91     59305\n",
      "   macro avg       0.73      0.55      0.56     59305\n",
      "weighted avg       0.88      0.91      0.88     59305\n",
      "\n"
     ]
    },
    {
     "data": {
      "image/png": "[encoded data removed]",
      "text/plain": [
       "<Figure size 640x480 with 1 Axes>"
      ]
     },
     "metadata": {},
     "output_type": "display_data"
    },
    {
     "name": "stdout",
     "output_type": "stream",
     "text": [
      "---------------------------------------------------------------------------\n",
      "---------------------------------------------------------------------------\n",
      "MODEL WITH TRAINING DATA 4 (UNDERSAMPLING LEVEL 4):\n",
      "\n",
      "32430 training examples\n",
      "Classification report:\n",
      "\n",
      "              precision    recall  f1-score   support\n",
      "\n",
      "           0       0.92      0.99      0.95     53857\n",
      "           1       0.52      0.11      0.18      5448\n",
      "\n",
      "    accuracy                           0.91     59305\n",
      "   macro avg       0.72      0.55      0.57     59305\n",
      "weighted avg       0.88      0.91      0.88     59305\n",
      "\n"
     ]
    },
    {
     "data": {
      "image/png": "[encoded data removed]",
      "text/plain": [
       "<Figure size 640x480 with 1 Axes>"
      ]
     },
     "metadata": {},
     "output_type": "display_data"
    },
    {
     "name": "stdout",
     "output_type": "stream",
     "text": [
      "---------------------------------------------------------------------------\n"
     ]
    }
   ],
   "source": [
    "for i in range(len(X_train_list)):\n",
    "    print(\"---------------------------------------------------------------------------\")\n",
    "    print(f\"Model with training data {i} ({data_desc[i]}):\\n\".upper())\n",
    "    print (str(X_train_list[i].shape[0]) + \" training examples\")\n",
    "    \n",
    "    # making model for logistic regression\n",
    "    clf_LR= LogisticRegression(random_state=0).fit(X_train_list[i], y_train_list[i])\n",
    "    pred = clf_LR.predict(X_test)\n",
    "    \n",
    "    df = pd.DataFrame({\n",
    "        'race': X_test[\"Race\"],\n",
    "        'predictions': pred,\n",
    "        'ground_truth': y_test\n",
    "    })\n",
    "\n",
    "    print(\"Classification report:\\n\")\n",
    "    print(classification_report(y_test,pred))\n",
    "\n",
    "    tp_rate_by_race = df.groupby('race').apply(lambda x: recall_score(x['ground_truth'], x['predictions']))\n",
    "    \n",
    "    plt.bar(tp_rate_by_race.index, tp_rate_by_race)\n",
    "    plt.xlabel('Race')\n",
    "    plt.ylabel('Accuracy')\n",
    "    plt.title('Accuracy Within Each Race')\n",
    "    plt.show()\n",
    "    print(\"---------------------------------------------------------------------------\")"
   ]
  },
  {
   "cell_type": "code",
   "execution_count": 211,
   "metadata": {},
   "outputs": [
    {
     "name": "stdout",
     "output_type": "stream",
     "text": [
      "---------------------------------------------------------------------------\n",
      "MODEL WITH TRAINING DATA 0 (IMBALANCED):\n",
      "\n",
      "237220 training examples\n",
      "Model accuracy score: 0.8987\n"
     ]
    },
    {
     "data": {
      "image/png": "[encoded data removed]",
      "text/plain": [
       "<Figure size 640x480 with 1 Axes>"
      ]
     },
     "metadata": {},
     "output_type": "display_data"
    },
    {
     "name": "stdout",
     "output_type": "stream",
     "text": [
      "---------------------------------------------------------------------------\n",
      "---------------------------------------------------------------------------\n",
      "MODEL WITH TRAINING DATA 1 (UNDERSAMPLING LEVEL 1):\n",
      "\n",
      "111687 training examples\n",
      "Model accuracy score: 0.9017\n"
     ]
    },
    {
     "data": {
      "image/png": "[encoded data removed]",
      "text/plain": [
       "<Figure size 640x480 with 1 Axes>"
      ]
     },
     "metadata": {},
     "output_type": "display_data"
    },
    {
     "name": "stdout",
     "output_type": "stream",
     "text": [
      "---------------------------------------------------------------------------\n",
      "---------------------------------------------------------------------------\n",
      "MODEL WITH TRAINING DATA 2 (UNDERSAMPLING LEVEL 2):\n",
      "\n",
      "61547 training examples\n",
      "Model accuracy score: 0.9039\n"
     ]
    },
    {
     "data": {
      "image/png": "[encoded data removed]",
      "text/plain": [
       "<Figure size 640x480 with 1 Axes>"
      ]
     },
     "metadata": {},
     "output_type": "display_data"
    },
    {
     "name": "stdout",
     "output_type": "stream",
     "text": [
      "---------------------------------------------------------------------------\n",
      "---------------------------------------------------------------------------\n",
      "MODEL WITH TRAINING DATA 3 (UNDERSAMPLING LEVEL 3):\n",
      "\n",
      "42477 training examples\n",
      "Model accuracy score: 0.9050\n"
     ]
    },
    {
     "data": {
      "image/png": "[encoded data removed]",
      "text/plain": [
       "<Figure size 640x480 with 1 Axes>"
      ]
     },
     "metadata": {},
     "output_type": "display_data"
    },
    {
     "name": "stdout",
     "output_type": "stream",
     "text": [
      "---------------------------------------------------------------------------\n",
      "---------------------------------------------------------------------------\n",
      "MODEL WITH TRAINING DATA 4 (UNDERSAMPLING LEVEL 4):\n",
      "\n",
      "32430 training examples\n",
      "Model accuracy score: 0.9059\n"
     ]
    },
    {
     "data": {
      "image/png": "[encoded data removed]",
      "text/plain": [
       "<Figure size 640x480 with 1 Axes>"
      ]
     },
     "metadata": {},
     "output_type": "display_data"
    },
    {
     "name": "stdout",
     "output_type": "stream",
     "text": [
      "---------------------------------------------------------------------------\n"
     ]
    }
   ],
   "source": [
    "from sklearn.ensemble import  RandomForestClassifier\n",
    "\n",
    "for i in range(len(X_train_list)):\n",
    "    print(\"---------------------------------------------------------------------------\")\n",
    "    print(f\"Model with training data {i} ({data_desc[i]}):\\n\".upper())\n",
    "    print (str(X_train_list[i].shape[0]) + \" training examples\")\n",
    "    \n",
    "    # making model for logistic regression\n",
    "    clf_RF= RandomForestClassifier().fit(X_train_list[i], y_train_list[i])\n",
    "        \n",
    "    pred = clf_RF.predict(X_test)\n",
    "    \n",
    "    df = pd.DataFrame({\n",
    "        'race': X_test[\"Race\"],\n",
    "        'predictions': pred,\n",
    "        'ground_truth': y_test\n",
    "    })\n",
    "\n",
    "    print('Model accuracy score: {0:0.4f}'. format(accuracy_score(y_test, pred)))\n",
    "    \n",
    "    tp_rate_by_race = df.groupby('race').apply(lambda x: recall_score(x['ground_truth'], x['predictions']))\n",
    "    \n",
    "    plt.bar(tp_rate_by_race.index, tp_rate_by_race)\n",
    "    plt.xlabel('Race')\n",
    "    plt.ylabel('Accuracy')\n",
    "    plt.title('Accuracy Within Each Race')\n",
    "    plt.show()\n",
    "    print(\"---------------------------------------------------------------------------\")"
   ]
  },
  {
   "cell_type": "code",
   "execution_count": 213,
   "metadata": {},
   "outputs": [
    {
     "name": "stdout",
     "output_type": "stream",
     "text": [
      "---------------------------------------------------------------------------\n",
      "Model with training data-0 (Imbalanced):\n",
      "\n",
      "Model accuracy score: 0.9002\n"
     ]
    },
    {
     "data": {
      "image/png": "[encoded data removed]",
      "text/plain": [
       "<Figure size 640x480 with 1 Axes>"
      ]
     },
     "metadata": {},
     "output_type": "display_data"
    },
    {
     "name": "stdout",
     "output_type": "stream",
     "text": [
      "---------------------------------------------------------------------------\n",
      "---------------------------------------------------------------------------\n",
      "Model with training data-1 (Undersampling Level 1):\n",
      "\n",
      "Model accuracy score: 0.9004\n"
     ]
    },
    {
     "data": {
      "image/png": "[encoded data removed]",
      "text/plain": [
       "<Figure size 640x480 with 1 Axes>"
      ]
     },
     "metadata": {},
     "output_type": "display_data"
    },
    {
     "name": "stdout",
     "output_type": "stream",
     "text": [
      "---------------------------------------------------------------------------\n",
      "---------------------------------------------------------------------------\n",
      "Model with training data-2 (Undersampling Level 2):\n",
      "\n",
      "Model accuracy score: 0.8998\n"
     ]
    },
    {
     "data": {
      "image/png": "[encoded data removed]",
      "text/plain": [
       "<Figure size 640x480 with 1 Axes>"
      ]
     },
     "metadata": {},
     "output_type": "display_data"
    },
    {
     "name": "stdout",
     "output_type": "stream",
     "text": [
      "---------------------------------------------------------------------------\n",
      "---------------------------------------------------------------------------\n",
      "Model with training data-3 (Undersampling Level 3):\n",
      "\n",
      "Model accuracy score: 0.9000\n"
     ]
    },
    {
     "data": {
      "image/png": "[encoded data removed]",
      "text/plain": [
       "<Figure size 640x480 with 1 Axes>"
      ]
     },
     "metadata": {},
     "output_type": "display_data"
    },
    {
     "name": "stdout",
     "output_type": "stream",
     "text": [
      "---------------------------------------------------------------------------\n",
      "---------------------------------------------------------------------------\n",
      "Model with training data-4 (Undersampling Level 4):\n",
      "\n",
      "Model accuracy score: 0.8996\n"
     ]
    },
    {
     "data": {
      "image/png": "[encoded data removed]",
      "text/plain": [
       "<Figure size 640x480 with 1 Axes>"
      ]
     },
     "metadata": {},
     "output_type": "display_data"
    },
    {
     "name": "stdout",
     "output_type": "stream",
     "text": [
      "---------------------------------------------------------------------------\n"
     ]
    }
   ],
   "source": [
    "from sklearn.neighbors import KNeighborsClassifier\n",
    "\n",
    "for i in range(len(X_train_list)):\n",
    "    print(\"---------------------------------------------------------------------------\")\n",
    "    print(f\"Model with training data-{i} ({data_desc[i]}):\\n\")\n",
    "    \n",
    "    clf_knn = KNeighborsClassifier(n_neighbors=5)\n",
    "    clf_knn.fit(X_train_list[i], y_train_list[i])\n",
    "    pred = clf_knn.predict(X_test)\n",
    "    \n",
    "    df = pd.DataFrame({\n",
    "        'race': X_test[\"Race\"],\n",
    "        'predictions': pred,\n",
    "        'ground_truth': y_test\n",
    "    })\n",
    "\n",
    "    print('Model accuracy score: {0:0.4f}'. format(accuracy_score(y_test, pred)))\n",
    "    \n",
    "    tp_rate_by_race = df.groupby('race').apply(lambda x: recall_score(x['ground_truth'], x['predictions']))\n",
    "    \n",
    "    plt.bar(tp_rate_by_race.index, tp_rate_by_race)\n",
    "    plt.xlabel('Race')\n",
    "    plt.ylabel('Accuracy')\n",
    "    plt.title('Accuracy Within Each Race')\n",
    "    plt.show()\n",
    "    print(\"---------------------------------------------------------------------------\")"
   ]
  },
  {
   "cell_type": "markdown",
   "metadata": {},
   "source": [
    "## SMOTE"
   ]
  },
  {
   "cell_type": "code",
   "execution_count": 215,
   "metadata": {},
   "outputs": [],
   "source": [
    "x = training_data.drop(['Race'], axis=1)\n",
    "y = training_data['Race']"
   ]
  },
  {
   "cell_type": "code",
   "execution_count": 148,
   "metadata": {},
   "outputs": [
    {
     "data": {
      "text/html": [
       "<div>\n",
       "<style scoped>\n",
       "    .dataframe tbody tr th:only-of-type {\n",
       "        vertical-align: middle;\n",
       "    }\n",
       "\n",
       "    .dataframe tbody tr th {\n",
       "        vertical-align: top;\n",
       "    }\n",
       "\n",
       "    .dataframe thead th {\n",
       "        text-align: right;\n",
       "    }\n",
       "</style>\n",
       "<table border=\"1\" class=\"dataframe\">\n",
       "  <thead>\n",
       "    <tr style=\"text-align: right;\">\n",
       "      <th></th>\n",
       "      <th>HeartDisease</th>\n",
       "      <th>BMI</th>\n",
       "      <th>Smoking</th>\n",
       "      <th>AlcoholDrinking</th>\n",
       "      <th>Stroke</th>\n",
       "      <th>PhysicalHealth</th>\n",
       "      <th>MentalHealth</th>\n",
       "      <th>DiffWalking</th>\n",
       "      <th>Sex</th>\n",
       "      <th>AgeCategory</th>\n",
       "      <th>Race</th>\n",
       "      <th>Diabetic</th>\n",
       "      <th>PhysicalActivity</th>\n",
       "      <th>GenHealth</th>\n",
       "      <th>SleepTime</th>\n",
       "      <th>Asthma</th>\n",
       "      <th>KidneyDisease</th>\n",
       "      <th>SkinCancer</th>\n",
       "    </tr>\n",
       "  </thead>\n",
       "  <tbody>\n",
       "    <tr>\n",
       "      <th>0</th>\n",
       "      <td>0</td>\n",
       "      <td>-0.869181</td>\n",
       "      <td>1</td>\n",
       "      <td>1</td>\n",
       "      <td>0</td>\n",
       "      <td>-0.193142</td>\n",
       "      <td>-0.260999</td>\n",
       "      <td>0</td>\n",
       "      <td>1</td>\n",
       "      <td>4</td>\n",
       "      <td>5</td>\n",
       "      <td>0</td>\n",
       "      <td>1</td>\n",
       "      <td>2</td>\n",
       "      <td>0.623971</td>\n",
       "      <td>0</td>\n",
       "      <td>0</td>\n",
       "      <td>0</td>\n",
       "    </tr>\n",
       "    <tr>\n",
       "      <th>1</th>\n",
       "      <td>0</td>\n",
       "      <td>0.372292</td>\n",
       "      <td>0</td>\n",
       "      <td>0</td>\n",
       "      <td>0</td>\n",
       "      <td>0.052539</td>\n",
       "      <td>-0.507054</td>\n",
       "      <td>0</td>\n",
       "      <td>1</td>\n",
       "      <td>0</td>\n",
       "      <td>4</td>\n",
       "      <td>0</td>\n",
       "      <td>1</td>\n",
       "      <td>4</td>\n",
       "      <td>-0.739244</td>\n",
       "      <td>1</td>\n",
       "      <td>0</td>\n",
       "      <td>0</td>\n",
       "    </tr>\n",
       "    <tr>\n",
       "      <th>2</th>\n",
       "      <td>0</td>\n",
       "      <td>1.262813</td>\n",
       "      <td>1</td>\n",
       "      <td>0</td>\n",
       "      <td>0</td>\n",
       "      <td>-0.315982</td>\n",
       "      <td>-0.260999</td>\n",
       "      <td>0</td>\n",
       "      <td>1</td>\n",
       "      <td>4</td>\n",
       "      <td>3</td>\n",
       "      <td>0</td>\n",
       "      <td>0</td>\n",
       "      <td>2</td>\n",
       "      <td>-0.739244</td>\n",
       "      <td>0</td>\n",
       "      <td>0</td>\n",
       "      <td>0</td>\n",
       "    </tr>\n",
       "    <tr>\n",
       "      <th>3</th>\n",
       "      <td>0</td>\n",
       "      <td>0.186767</td>\n",
       "      <td>0</td>\n",
       "      <td>0</td>\n",
       "      <td>0</td>\n",
       "      <td>-0.438823</td>\n",
       "      <td>-0.507054</td>\n",
       "      <td>0</td>\n",
       "      <td>0</td>\n",
       "      <td>9</td>\n",
       "      <td>5</td>\n",
       "      <td>0</td>\n",
       "      <td>0</td>\n",
       "      <td>4</td>\n",
       "      <td>1.305579</td>\n",
       "      <td>0</td>\n",
       "      <td>0</td>\n",
       "      <td>0</td>\n",
       "    </tr>\n",
       "    <tr>\n",
       "      <th>4</th>\n",
       "      <td>1</td>\n",
       "      <td>-0.294053</td>\n",
       "      <td>0</td>\n",
       "      <td>0</td>\n",
       "      <td>0</td>\n",
       "      <td>-0.438823</td>\n",
       "      <td>0.354137</td>\n",
       "      <td>0</td>\n",
       "      <td>1</td>\n",
       "      <td>5</td>\n",
       "      <td>5</td>\n",
       "      <td>0</td>\n",
       "      <td>1</td>\n",
       "      <td>4</td>\n",
       "      <td>-0.739244</td>\n",
       "      <td>0</td>\n",
       "      <td>0</td>\n",
       "      <td>0</td>\n",
       "    </tr>\n",
       "    <tr>\n",
       "      <th>...</th>\n",
       "      <td>...</td>\n",
       "      <td>...</td>\n",
       "      <td>...</td>\n",
       "      <td>...</td>\n",
       "      <td>...</td>\n",
       "      <td>...</td>\n",
       "      <td>...</td>\n",
       "      <td>...</td>\n",
       "      <td>...</td>\n",
       "      <td>...</td>\n",
       "      <td>...</td>\n",
       "      <td>...</td>\n",
       "      <td>...</td>\n",
       "      <td>...</td>\n",
       "      <td>...</td>\n",
       "      <td>...</td>\n",
       "      <td>...</td>\n",
       "      <td>...</td>\n",
       "    </tr>\n",
       "    <tr>\n",
       "      <th>241368</th>\n",
       "      <td>0</td>\n",
       "      <td>1.657054</td>\n",
       "      <td>0</td>\n",
       "      <td>0</td>\n",
       "      <td>0</td>\n",
       "      <td>-0.438823</td>\n",
       "      <td>-0.507054</td>\n",
       "      <td>0</td>\n",
       "      <td>0</td>\n",
       "      <td>8</td>\n",
       "      <td>5</td>\n",
       "      <td>2</td>\n",
       "      <td>1</td>\n",
       "      <td>4</td>\n",
       "      <td>0.623971</td>\n",
       "      <td>0</td>\n",
       "      <td>0</td>\n",
       "      <td>1</td>\n",
       "    </tr>\n",
       "    <tr>\n",
       "      <th>241369</th>\n",
       "      <td>0</td>\n",
       "      <td>-0.029679</td>\n",
       "      <td>0</td>\n",
       "      <td>0</td>\n",
       "      <td>0</td>\n",
       "      <td>-0.315982</td>\n",
       "      <td>0.108083</td>\n",
       "      <td>0</td>\n",
       "      <td>0</td>\n",
       "      <td>3</td>\n",
       "      <td>5</td>\n",
       "      <td>0</td>\n",
       "      <td>1</td>\n",
       "      <td>0</td>\n",
       "      <td>0.623971</td>\n",
       "      <td>0</td>\n",
       "      <td>0</td>\n",
       "      <td>0</td>\n",
       "    </tr>\n",
       "    <tr>\n",
       "      <th>241370</th>\n",
       "      <td>0</td>\n",
       "      <td>1.080380</td>\n",
       "      <td>0</td>\n",
       "      <td>0</td>\n",
       "      <td>1</td>\n",
       "      <td>-0.438823</td>\n",
       "      <td>-0.507054</td>\n",
       "      <td>1</td>\n",
       "      <td>0</td>\n",
       "      <td>11</td>\n",
       "      <td>5</td>\n",
       "      <td>2</td>\n",
       "      <td>0</td>\n",
       "      <td>2</td>\n",
       "      <td>-0.739244</td>\n",
       "      <td>0</td>\n",
       "      <td>0</td>\n",
       "      <td>0</td>\n",
       "    </tr>\n",
       "    <tr>\n",
       "      <th>241371</th>\n",
       "      <td>1</td>\n",
       "      <td>-0.182738</td>\n",
       "      <td>1</td>\n",
       "      <td>0</td>\n",
       "      <td>0</td>\n",
       "      <td>-0.438823</td>\n",
       "      <td>-0.507054</td>\n",
       "      <td>0</td>\n",
       "      <td>1</td>\n",
       "      <td>12</td>\n",
       "      <td>5</td>\n",
       "      <td>0</td>\n",
       "      <td>1</td>\n",
       "      <td>0</td>\n",
       "      <td>0.623971</td>\n",
       "      <td>0</td>\n",
       "      <td>1</td>\n",
       "      <td>1</td>\n",
       "    </tr>\n",
       "    <tr>\n",
       "      <th>241372</th>\n",
       "      <td>0</td>\n",
       "      <td>0.069267</td>\n",
       "      <td>0</td>\n",
       "      <td>0</td>\n",
       "      <td>0</td>\n",
       "      <td>-0.315982</td>\n",
       "      <td>-0.260999</td>\n",
       "      <td>0</td>\n",
       "      <td>1</td>\n",
       "      <td>2</td>\n",
       "      <td>1</td>\n",
       "      <td>0</td>\n",
       "      <td>1</td>\n",
       "      <td>4</td>\n",
       "      <td>-0.057636</td>\n",
       "      <td>0</td>\n",
       "      <td>0</td>\n",
       "      <td>0</td>\n",
       "    </tr>\n",
       "  </tbody>\n",
       "</table>\n",
       "<p>241373 rows × 18 columns</p>\n",
       "</div>"
      ],
      "text/plain": [
       "        HeartDisease       BMI  Smoking  AlcoholDrinking  Stroke  \\\n",
       "0                  0 -0.869181        1                1       0   \n",
       "1                  0  0.372292        0                0       0   \n",
       "2                  0  1.262813        1                0       0   \n",
       "3                  0  0.186767        0                0       0   \n",
       "4                  1 -0.294053        0                0       0   \n",
       "...              ...       ...      ...              ...     ...   \n",
       "241368             0  1.657054        0                0       0   \n",
       "241369             0 -0.029679        0                0       0   \n",
       "241370             0  1.080380        0                0       1   \n",
       "241371             1 -0.182738        1                0       0   \n",
       "241372             0  0.069267        0                0       0   \n",
       "\n",
       "        PhysicalHealth  MentalHealth  DiffWalking  Sex  AgeCategory  Race  \\\n",
       "0            -0.193142     -0.260999            0    1            4     5   \n",
       "1             0.052539     -0.507054            0    1            0     4   \n",
       "2            -0.315982     -0.260999            0    1            4     3   \n",
       "3            -0.438823     -0.507054            0    0            9     5   \n",
       "4            -0.438823      0.354137            0    1            5     5   \n",
       "...                ...           ...          ...  ...          ...   ...   \n",
       "241368       -0.438823     -0.507054            0    0            8     5   \n",
       "241369       -0.315982      0.108083            0    0            3     5   \n",
       "241370       -0.438823     -0.507054            1    0           11     5   \n",
       "241371       -0.438823     -0.507054            0    1           12     5   \n",
       "241372       -0.315982     -0.260999            0    1            2     1   \n",
       "\n",
       "        Diabetic  PhysicalActivity  GenHealth  SleepTime  Asthma  \\\n",
       "0              0                 1          2   0.623971       0   \n",
       "1              0                 1          4  -0.739244       1   \n",
       "2              0                 0          2  -0.739244       0   \n",
       "3              0                 0          4   1.305579       0   \n",
       "4              0                 1          4  -0.739244       0   \n",
       "...          ...               ...        ...        ...     ...   \n",
       "241368         2                 1          4   0.623971       0   \n",
       "241369         0                 1          0   0.623971       0   \n",
       "241370         2                 0          2  -0.739244       0   \n",
       "241371         0                 1          0   0.623971       0   \n",
       "241372         0                 1          4  -0.057636       0   \n",
       "\n",
       "        KidneyDisease  SkinCancer  \n",
       "0                   0           0  \n",
       "1                   0           0  \n",
       "2                   0           0  \n",
       "3                   0           0  \n",
       "4                   0           0  \n",
       "...               ...         ...  \n",
       "241368              0           1  \n",
       "241369              0           0  \n",
       "241370              0           0  \n",
       "241371              1           1  \n",
       "241372              0           0  \n",
       "\n",
       "[241373 rows x 18 columns]"
      ]
     },
     "execution_count": 148,
     "metadata": {},
     "output_type": "execute_result"
    }
   ],
   "source": [
    "training_data"
   ]
  },
  {
   "cell_type": "code",
   "execution_count": 216,
   "metadata": {},
   "outputs": [],
   "source": [
    "race_ind= list(training_data.columns).index(\"Race\")"
   ]
  },
  {
   "cell_type": "code",
   "execution_count": 217,
   "metadata": {},
   "outputs": [],
   "source": [
    "smote = SMOTE()\n",
    "\n",
    "x_smote, y_smote = smote.fit_resample(x, y)\n",
    "\n",
    "training_data_smote = pd.concat([x_smote.iloc[:, :race_ind], y_smote, x_smote.iloc[:, race_ind: ]], axis=1)"
   ]
  },
  {
   "cell_type": "code",
   "execution_count": 218,
   "metadata": {},
   "outputs": [],
   "source": [
    "smote_counts = training_data_smote['Race'].value_counts()"
   ]
  },
  {
   "cell_type": "code",
   "execution_count": 219,
   "metadata": {},
   "outputs": [
    {
     "data": {
      "text/plain": [
       "Race\n",
       "2    182116\n",
       "4    182116\n",
       "3    182116\n",
       "1    182116\n",
       "0    182116\n",
       "Name: count, dtype: int64"
      ]
     },
     "execution_count": 219,
     "metadata": {},
     "output_type": "execute_result"
    }
   ],
   "source": [
    "smote_counts"
   ]
  },
  {
   "cell_type": "code",
   "execution_count": 220,
   "metadata": {},
   "outputs": [],
   "source": [
    "X_train_list = [training_data_smote.drop(['HeartDisease'], axis=1)]\n",
    "y_train_list = [training_data_smote['HeartDisease']]"
   ]
  },
  {
   "cell_type": "code",
   "execution_count": 225,
   "metadata": {},
   "outputs": [
    {
     "name": "stdout",
     "output_type": "stream",
     "text": [
      "---------------------------------------------------------------------------\n",
      "MODEL WITH TRAINING DATA 0 (IMBALANCED):\n",
      "\n",
      "910580 training examples\n",
      "Classification report:\n",
      "\n",
      "              precision    recall  f1-score   support\n",
      "\n",
      "           0       0.92      0.98      0.95     53857\n",
      "           1       0.34      0.12      0.18      5448\n",
      "\n",
      "    accuracy                           0.90     59305\n",
      "   macro avg       0.63      0.55      0.56     59305\n",
      "weighted avg       0.86      0.90      0.88     59305\n",
      "\n"
     ]
    },
    {
     "data": {
      "image/png": "[encoded data removed]",
      "text/plain": [
       "<Figure size 640x480 with 1 Axes>"
      ]
     },
     "metadata": {},
     "output_type": "display_data"
    },
    {
     "name": "stdout",
     "output_type": "stream",
     "text": [
      "---------------------------------------------------------------------------\n"
     ]
    }
   ],
   "source": [
    "for i in range(len(X_train_list)):\n",
    "    print(\"---------------------------------------------------------------------------\")\n",
    "    print(f\"Model with training data {i} ({data_desc[i]}):\\n\".upper())\n",
    "    print (str(X_train_list[i].shape[0]) + \" training examples\")\n",
    "    \n",
    "    # making model\n",
    "    clf_knn = KNeighborsClassifier(n_neighbors=5)\n",
    "    clf_knn.fit(X_train_list[i], y_train_list[i])\n",
    "    pred = clf_knn.predict(X_test)\n",
    "    \n",
    "    df = pd.DataFrame({\n",
    "        'race': X_test[\"Race\"],\n",
    "        'predictions': pred,\n",
    "        'ground_truth': y_test\n",
    "    })\n",
    "\n",
    "    print(\"Classification report:\\n\")\n",
    "    print(classification_report(y_test,pred))\n",
    "\n",
    "    tp_rate_by_race = df.groupby('race').apply(lambda x: recall_score(x['ground_truth'], x['predictions']))\n",
    "    \n",
    "    plt.bar(tp_rate_by_race.index, tp_rate_by_race)\n",
    "    plt.xlabel('Race')\n",
    "    plt.ylabel('Accuracy')\n",
    "    plt.title('Accuracy Within Each Race')\n",
    "    plt.show()\n",
    "    print(\"---------------------------------------------------------------------------\")"
   ]
  },
  {
   "cell_type": "code",
   "execution_count": 227,
   "metadata": {},
   "outputs": [
    {
     "data": {
      "text/plain": [
       "[[6486, 6486, 6486, 6486, 85743],\n",
       " [6486, 6486, 6486, 6486, 35603],\n",
       " [6486, 6486, 6486, 6486, 16533],\n",
       " [6486, 6486, 6486, 6486, 6486]]"
      ]
     },
     "execution_count": 227,
     "metadata": {},
     "output_type": "execute_result"
    }
   ],
   "source": [
    "count_dists"
   ]
  },
  {
   "cell_type": "code",
   "execution_count": null,
   "metadata": {},
   "outputs": [],
   "source": [
    "training_data.shape[0]"
   ]
  },
  {
   "cell_type": "code",
   "execution_count": 228,
   "metadata": {},
   "outputs": [],
   "source": [
    "decreased_white = training_data[training_data[\"Race\"] == 4].sample(count_dists[0][0] * 2)\n",
    "training_data_1 = pd.concat([training_data[training_data[\"Race\"] < 2], decreased_white])\n",
    "training_data_1 = training_data_1.sample(frac = 1)\n",
    "\n",
    "x1 = training_data_1.drop(['Race'], axis=1)\n",
    "y1 = training_data_1['Race']\n",
    "\n",
    "\n",
    "\n",
    "decreased_white = training_data[training_data[\"Race\"] == 4].sample(count_dists[0][0] * 4)\n",
    "training_data_2 = pd.concat([training_data[training_data[\"Race\"] < 2], decreased_white])\n",
    "training_data_2 = training_data_2.sample(frac = 1)\n",
    "\n",
    "x2 = training_data_2.drop(['Race'], axis=1)\n",
    "y2 = training_data_2['Race']\n",
    "\n",
    "\n",
    "\n",
    "decreased_white = training_data[training_data[\"Race\"] == 4].sample(count_dists[0][0] * 7)\n",
    "training_data_3 = pd.concat([training_data[training_data[\"Race\"] < 2], decreased_white])\n",
    "training_data_3 = training_data_3.sample(frac = 1)\n",
    "\n",
    "x3 = training_data_3.drop(['Race'], axis=1)\n",
    "y3 = training_data_3['Race']\n",
    "\n",
    "\n",
    "\n",
    "decreased_white = training_data[training_data[\"Race\"] == 4]\n",
    "training_data_4 = pd.concat([training_data[training_data[\"Race\"] < 2], decreased_white])\n",
    "training_data_4 = training_data_4.sample(frac = 1)\n",
    "\n",
    "x4 = training_data_4.drop(['Race'], axis=1)\n",
    "y4 = training_data_4['Race']\n",
    "\n",
    "x = [x1, x2, x3, x4]\n",
    "y = [y1, y2, y3, y4]"
   ]
  },
  {
   "cell_type": "code",
   "execution_count": 234,
   "metadata": {},
   "outputs": [
    {
     "data": {
      "text/plain": [
       "2"
      ]
     },
     "execution_count": 234,
     "metadata": {},
     "output_type": "execute_result"
    }
   ],
   "source": [
    "len(smote.fit_resample(x1, y1))"
   ]
  },
  {
   "cell_type": "code",
   "execution_count": 235,
   "metadata": {},
   "outputs": [],
   "source": [
    "smote = SMOTE()\n",
    "\n",
    "x_y_smote = [smote.fit_resample(x_data, y_data) for x_data, y_data in zip(x, y)]\n",
    "\n",
    "training_data_smote = [pd.concat([x_smote.iloc[:, :race_ind], y_smote, x_smote.iloc[:, race_ind: ]], axis=1) for x_smote, y_smote in x_y_smote]"
   ]
  },
  {
   "cell_type": "code",
   "execution_count": 242,
   "metadata": {},
   "outputs": [],
   "source": [
    "X_train_list = [training_data.drop(['HeartDisease'], axis=1) for training_data in training_data_smote]\n",
    "y_train_list = [training_data['HeartDisease'] for training_data in training_data_smote]"
   ]
  },
  {
   "cell_type": "code",
   "execution_count": 245,
   "metadata": {},
   "outputs": [
    {
     "name": "stdout",
     "output_type": "stream",
     "text": [
      "---------------------------------------------------------------------------\n",
      "MODEL WITH TRAINING DATA 0 (IMBALANCED):\n",
      "\n",
      "54636 training examples\n",
      "Classification report:\n",
      "\n",
      "              precision    recall  f1-score   support\n",
      "\n",
      "           0       0.91      0.98      0.95     53857\n",
      "           1       0.31      0.09      0.14      5448\n",
      "\n",
      "    accuracy                           0.90     59305\n",
      "   macro avg       0.61      0.54      0.54     59305\n",
      "weighted avg       0.86      0.90      0.87     59305\n",
      "\n"
     ]
    },
    {
     "data": {
      "image/png": "[encoded data removed]",
      "text/plain": [
       "<Figure size 640x480 with 1 Axes>"
      ]
     },
     "metadata": {},
     "output_type": "display_data"
    },
    {
     "name": "stdout",
     "output_type": "stream",
     "text": [
      "---------------------------------------------------------------------------\n",
      "---------------------------------------------------------------------------\n",
      "MODEL WITH TRAINING DATA 1 (UNDERSAMPLING LEVEL 1):\n",
      "\n",
      "77832 training examples\n",
      "Classification report:\n",
      "\n",
      "              precision    recall  f1-score   support\n",
      "\n",
      "           0       0.91      0.98      0.95     53857\n",
      "           1       0.33      0.09      0.14      5448\n",
      "\n",
      "    accuracy                           0.90     59305\n",
      "   macro avg       0.62      0.54      0.54     59305\n",
      "weighted avg       0.86      0.90      0.87     59305\n",
      "\n"
     ]
    },
    {
     "data": {
      "image/png": "[encoded data removed]",
      "text/plain": [
       "<Figure size 640x480 with 1 Axes>"
      ]
     },
     "metadata": {},
     "output_type": "display_data"
    },
    {
     "name": "stdout",
     "output_type": "stream",
     "text": [
      "---------------------------------------------------------------------------\n",
      "---------------------------------------------------------------------------\n",
      "MODEL WITH TRAINING DATA 2 (UNDERSAMPLING LEVEL 2):\n",
      "\n",
      "136206 training examples\n",
      "Classification report:\n",
      "\n",
      "              precision    recall  f1-score   support\n",
      "\n",
      "           0       0.92      0.98      0.95     53857\n",
      "           1       0.35      0.11      0.17      5448\n",
      "\n",
      "    accuracy                           0.90     59305\n",
      "   macro avg       0.63      0.54      0.56     59305\n",
      "weighted avg       0.86      0.90      0.87     59305\n",
      "\n"
     ]
    },
    {
     "data": {
      "image/png": "[encoded data removed]",
      "text/plain": [
       "<Figure size 640x480 with 1 Axes>"
      ]
     },
     "metadata": {},
     "output_type": "display_data"
    },
    {
     "name": "stdout",
     "output_type": "stream",
     "text": [
      "---------------------------------------------------------------------------\n",
      "---------------------------------------------------------------------------\n",
      "MODEL WITH TRAINING DATA 3 (UNDERSAMPLING LEVEL 3):\n",
      "\n",
      "546348 training examples\n",
      "Classification report:\n",
      "\n",
      "              precision    recall  f1-score   support\n",
      "\n",
      "           0       0.92      0.98      0.95     53857\n",
      "           1       0.34      0.12      0.17      5448\n",
      "\n",
      "    accuracy                           0.90     59305\n",
      "   macro avg       0.63      0.55      0.56     59305\n",
      "weighted avg       0.86      0.90      0.87     59305\n",
      "\n"
     ]
    },
    {
     "data": {
      "image/png": "[encoded data removed]",
      "text/plain": [
       "<Figure size 640x480 with 1 Axes>"
      ]
     },
     "metadata": {},
     "output_type": "display_data"
    },
    {
     "name": "stdout",
     "output_type": "stream",
     "text": [
      "---------------------------------------------------------------------------\n"
     ]
    }
   ],
   "source": [
    "for i in range(len(X_train_list)):\n",
    "    print(\"---------------------------------------------------------------------------\")\n",
    "    print(f\"Model with training data {i} ({data_desc[i]}):\\n\".upper())\n",
    "    print (str(X_train_list[i].shape[0]) + \" training examples\")\n",
    "    \n",
    "    # making model for logistic regression\n",
    "    clf_knn = KNeighborsClassifier(n_neighbors=5)\n",
    "    clf_knn.fit(X_train_list[i], y_train_list[i])\n",
    "    pred = clf_knn.predict(X_test)\n",
    "    \n",
    "    df = pd.DataFrame({\n",
    "        'race': X_test[\"Race\"],\n",
    "        'predictions': pred,\n",
    "        'ground_truth': y_test\n",
    "    })\n",
    "\n",
    "    print(\"Classification report:\\n\")\n",
    "    print(classification_report(y_test,pred))\n",
    "\n",
    "    tp_rate_by_race = df.groupby('race').apply(lambda x: recall_score(x['ground_truth'], x['predictions']))\n",
    "    \n",
    "    plt.bar(tp_rate_by_race.index, tp_rate_by_race)\n",
    "    plt.xlabel('Race')\n",
    "    plt.ylabel('Recall')\n",
    "    plt.title('Recall Within Each Race')\n",
    "    plt.show()\n",
    "    print(\"---------------------------------------------------------------------------\")"
   ]
  },
  {
   "cell_type": "code",
   "execution_count": null,
   "metadata": {},
   "outputs": [],
   "source": []
  },
  {
   "cell_type": "code",
   "execution_count": 221,
   "metadata": {},
   "outputs": [
    {
     "name": "stdout",
     "output_type": "stream",
     "text": [
      "---------------------------------------------------------------------------\n",
      "MODEL WITH TRAINING DATA 0 (IMBALANCED):\n",
      "\n",
      "910580 training examples\n",
      "Epoch 1/30\n",
      "25611/25611 [==============================] - 14s 478us/step - loss: 0.1263 - accuracy: 0.9595 - val_loss: 0.1022 - val_accuracy: 0.9691\n",
      "Epoch 2/30\n",
      "25611/25611 [==============================] - 12s 483us/step - loss: 0.1218 - accuracy: 0.9600 - val_loss: 0.1068 - val_accuracy: 0.9691\n",
      "Epoch 3/30\n",
      "25611/25611 [==============================] - 12s 467us/step - loss: 0.1210 - accuracy: 0.9599 - val_loss: 0.0998 - val_accuracy: 0.9694\n",
      "Epoch 4/30\n",
      "25611/25611 [==============================] - 12s 476us/step - loss: 0.1206 - accuracy: 0.9600 - val_loss: 0.1013 - val_accuracy: 0.9695\n",
      "Epoch 5/30\n",
      "25611/25611 [==============================] - 12s 470us/step - loss: 0.1203 - accuracy: 0.9600 - val_loss: 0.1086 - val_accuracy: 0.9693\n",
      "Epoch 6/30\n",
      "25611/25611 [==============================] - 12s 454us/step - loss: 0.1200 - accuracy: 0.9601 - val_loss: 0.1015 - val_accuracy: 0.9695\n",
      "Epoch 7/30\n",
      "25611/25611 [==============================] - 12s 457us/step - loss: 0.1197 - accuracy: 0.9601 - val_loss: 0.1005 - val_accuracy: 0.9692\n",
      "Epoch 8/30\n",
      "25611/25611 [==============================] - 11s 448us/step - loss: 0.1195 - accuracy: 0.9600 - val_loss: 0.0986 - val_accuracy: 0.9693\n",
      "Epoch 9/30\n",
      "25611/25611 [==============================] - 11s 448us/step - loss: 0.1194 - accuracy: 0.9601 - val_loss: 0.1016 - val_accuracy: 0.9694\n",
      "Epoch 10/30\n",
      "25611/25611 [==============================] - 11s 445us/step - loss: 0.1193 - accuracy: 0.9601 - val_loss: 0.1048 - val_accuracy: 0.9694\n",
      "Epoch 11/30\n",
      "25611/25611 [==============================] - 11s 447us/step - loss: 0.1192 - accuracy: 0.9600 - val_loss: 0.0989 - val_accuracy: 0.9693\n",
      "Epoch 12/30\n",
      "25611/25611 [==============================] - 11s 447us/step - loss: 0.1191 - accuracy: 0.9600 - val_loss: 0.1008 - val_accuracy: 0.9695\n",
      "Epoch 13/30\n",
      "25611/25611 [==============================] - 11s 446us/step - loss: 0.1191 - accuracy: 0.9601 - val_loss: 0.0998 - val_accuracy: 0.9694\n",
      "Epoch 14/30\n",
      "25611/25611 [==============================] - 12s 451us/step - loss: 0.1190 - accuracy: 0.9601 - val_loss: 0.1008 - val_accuracy: 0.9696\n",
      "Epoch 15/30\n",
      "25611/25611 [==============================] - 13s 496us/step - loss: 0.1189 - accuracy: 0.9600 - val_loss: 0.0991 - val_accuracy: 0.9695\n",
      "Epoch 16/30\n",
      "25611/25611 [==============================] - 12s 466us/step - loss: 0.1188 - accuracy: 0.9600 - val_loss: 0.1000 - val_accuracy: 0.9694\n",
      "Epoch 17/30\n",
      "25611/25611 [==============================] - 12s 466us/step - loss: 0.1189 - accuracy: 0.9601 - val_loss: 0.0989 - val_accuracy: 0.9695\n",
      "Epoch 18/30\n",
      "25611/25611 [==============================] - 12s 471us/step - loss: 0.1188 - accuracy: 0.9601 - val_loss: 0.0997 - val_accuracy: 0.9692\n",
      "Epoch 19/30\n",
      "25611/25611 [==============================] - 12s 470us/step - loss: 0.1188 - accuracy: 0.9601 - val_loss: 0.1001 - val_accuracy: 0.9694\n",
      "Epoch 20/30\n",
      "25611/25611 [==============================] - 12s 485us/step - loss: 0.1187 - accuracy: 0.9601 - val_loss: 0.1012 - val_accuracy: 0.9697\n",
      "Epoch 21/30\n",
      "25611/25611 [==============================] - 13s 515us/step - loss: 0.1187 - accuracy: 0.9601 - val_loss: 0.1010 - val_accuracy: 0.9696\n",
      "Epoch 22/30\n",
      "25611/25611 [==============================] - 13s 496us/step - loss: 0.1187 - accuracy: 0.9601 - val_loss: 0.1024 - val_accuracy: 0.9694\n",
      "Epoch 23/30\n",
      "25611/25611 [==============================] - 12s 466us/step - loss: 0.1186 - accuracy: 0.9601 - val_loss: 0.1021 - val_accuracy: 0.9696\n",
      "Epoch 24/30\n",
      "25611/25611 [==============================] - 12s 470us/step - loss: 0.1186 - accuracy: 0.9601 - val_loss: 0.0987 - val_accuracy: 0.9694\n",
      "Epoch 25/30\n",
      "25611/25611 [==============================] - 12s 452us/step - loss: 0.1186 - accuracy: 0.9601 - val_loss: 0.0988 - val_accuracy: 0.9695\n",
      "Epoch 26/30\n",
      "25611/25611 [==============================] - 12s 483us/step - loss: 0.1185 - accuracy: 0.9601 - val_loss: 0.1000 - val_accuracy: 0.9695\n",
      "Epoch 27/30\n",
      "25611/25611 [==============================] - 13s 506us/step - loss: 0.1185 - accuracy: 0.9600 - val_loss: 0.0993 - val_accuracy: 0.9696\n",
      "Epoch 28/30\n",
      "25611/25611 [==============================] - 12s 484us/step - loss: 0.1185 - accuracy: 0.9601 - val_loss: 0.1004 - val_accuracy: 0.9697\n",
      "Epoch 29/30\n",
      "25611/25611 [==============================] - 12s 488us/step - loss: 0.1185 - accuracy: 0.9601 - val_loss: 0.0990 - val_accuracy: 0.9695\n",
      "Epoch 30/30\n",
      "25611/25611 [==============================] - 13s 495us/step - loss: 0.1185 - accuracy: 0.9601 - val_loss: 0.1035 - val_accuracy: 0.9695\n",
      "1854/1854 [==============================] - 1s 283us/step\n",
      "Classification report:\n",
      "\n",
      "              precision    recall  f1-score   support\n",
      "\n",
      "           0       0.91      0.99      0.95     53857\n",
      "           1       0.53      0.07      0.12      5448\n",
      "\n",
      "    accuracy                           0.91     59305\n",
      "   macro avg       0.72      0.53      0.53     59305\n",
      "weighted avg       0.88      0.91      0.88     59305\n",
      "\n"
     ]
    },
    {
     "data": {
      "image/png": "[encoded data removed]",
      "text/plain": [
       "<Figure size 640x480 with 1 Axes>"
      ]
     },
     "metadata": {},
     "output_type": "display_data"
    },
    {
     "name": "stdout",
     "output_type": "stream",
     "text": [
      "---------------------------------------------------------------------------\n"
     ]
    }
   ],
   "source": [
    "for i in range(len(X_train_list)):\n",
    "    print(\"---------------------------------------------------------------------------\")\n",
    "    print(f\"Model with training data {i} ({data_desc[i]}):\\n\".upper())\n",
    "    print (str(X_train_list[i].shape[0]) + \" training examples\")\n",
    "    \n",
    "    # making model\n",
    "    model = Sequential()\n",
    "    model.add(Dense(32, input_dim=X_train_list[i].shape[1], activation='relu'))\n",
    "    model.add(Dense(1, activation='sigmoid'))\n",
    "\n",
    "    # Compile the model\n",
    "    model.compile(optimizer='adam', loss='binary_crossentropy', metrics=['accuracy'])\n",
    "\n",
    "    model.fit(X_train_list[i], y_train_list[i], epochs=30, batch_size=32, validation_split=0.1)\n",
    "\n",
    "    pred = model.predict(X_test).squeeze()\n",
    "    pred = (pred > 0.5).astype(int)\n",
    "    \n",
    "    df = pd.DataFrame({\n",
    "        'race': X_test[\"Race\"],\n",
    "        'predictions': pred,\n",
    "        'ground_truth': y_test\n",
    "    })\n",
    "\n",
    "    print(\"Classification report:\\n\")\n",
    "    print(classification_report(y_test,pred))\n",
    "\n",
    "    tp_rate_by_race = df.groupby('race').apply(lambda x: recall_score(x['ground_truth'], x['predictions']))\n",
    "    \n",
    "    plt.bar(tp_rate_by_race.index, tp_rate_by_race)\n",
    "    plt.xlabel('Race')\n",
    "    plt.ylabel('Accuracy')\n",
    "    plt.title('Accuracy Within Each Race')\n",
    "    plt.show()\n",
    "    print(\"---------------------------------------------------------------------------\")"
   ]
  },
  {
   "cell_type": "code",
   "execution_count": 121,
   "metadata": {},
   "outputs": [
    {
     "ename": "NameError",
     "evalue": "name 'x' is not defined",
     "output_type": "error",
     "traceback": [
      "\u001b[0;31m---------------------------------------------------------------------------\u001b[0m",
      "\u001b[0;31mNameError\u001b[0m                                 Traceback (most recent call last)",
      "\u001b[1;32m/Users/raynaarora/aidms/tests.ipynb Cell 55\u001b[0m line \u001b[0;36m6\n\u001b[1;32m      <a href='vscode-notebook-cell:/Users/raynaarora/aidms/tests.ipynb#Y111sZmlsZQ%3D%3D?line=2'>3</a>\u001b[0m smote \u001b[39m=\u001b[39m SMOTE()\n\u001b[1;32m      <a href='vscode-notebook-cell:/Users/raynaarora/aidms/tests.ipynb#Y111sZmlsZQ%3D%3D?line=4'>5</a>\u001b[0m \u001b[39m# fit predictor and target variable\u001b[39;00m\n\u001b[0;32m----> <a href='vscode-notebook-cell:/Users/raynaarora/aidms/tests.ipynb#Y111sZmlsZQ%3D%3D?line=5'>6</a>\u001b[0m x_smote, y_smote \u001b[39m=\u001b[39m smote\u001b[39m.\u001b[39mfit_resample(x, y)\n\u001b[1;32m      <a href='vscode-notebook-cell:/Users/raynaarora/aidms/tests.ipynb#Y111sZmlsZQ%3D%3D?line=7'>8</a>\u001b[0m \u001b[39mprint\u001b[39m(\u001b[39m'\u001b[39m\u001b[39mOriginal dataset shape\u001b[39m\u001b[39m'\u001b[39m, Counter(y))\n\u001b[1;32m      <a href='vscode-notebook-cell:/Users/raynaarora/aidms/tests.ipynb#Y111sZmlsZQ%3D%3D?line=8'>9</a>\u001b[0m \u001b[39mprint\u001b[39m(\u001b[39m'\u001b[39m\u001b[39mResample dataset shape\u001b[39m\u001b[39m'\u001b[39m, Counter(y_smote))\n",
      "\u001b[0;31mNameError\u001b[0m: name 'x' is not defined"
     ]
    }
   ],
   "source": [
    "from imblearn.over_sampling import SMOTE\n",
    "\n",
    "# fit predictor and target variable\n",
    "x_smote, y_smote = smote.fit_resample(x, y)\n",
    "\n",
    "print('Original dataset shape', Counter(y))\n",
    "print('Resample dataset shape', Counter(y_smote))\n",
    "\n",
    "training_data_4 = pd.concat([y_smote, x_smote], axis=1)"
   ]
  },
  {
   "cell_type": "code",
   "execution_count": null,
   "metadata": {},
   "outputs": [],
   "source": []
  }
 ],
 "metadata": {
  "kernelspec": {
   "display_name": "base",
   "language": "python",
   "name": "python3"
  },
  "language_info": {
   "codemirror_mode": {
    "name": "ipython",
    "version": 3
   },
   "file_extension": ".py",
   "mimetype": "text/x-python",
   "name": "python",
   "nbconvert_exporter": "python",
   "pygments_lexer": "ipython3",
   "version": "3.10.6"
  }
 },
 "nbformat": 4,
 "nbformat_minor": 2
}
