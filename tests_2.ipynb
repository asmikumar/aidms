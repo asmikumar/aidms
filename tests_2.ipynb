{
 "cells": [
  {
   "cell_type": "code",
   "execution_count": 1,
   "metadata": {},
   "outputs": [],
   "source": [
    "import pandas as pd\n",
    "import numpy as np\n",
    "import matplotlib.pyplot as plt\n",
    "import seaborn as sns\n",
    "\n",
    "from sklearn.linear_model import LogisticRegression\n",
    "from sklearn.metrics import ConfusionMatrixDisplay, classification_report, accuracy_score\n",
    "from sklearn.metrics import recall_score"
   ]
  },
  {
   "cell_type": "code",
   "execution_count": 2,
   "metadata": {},
   "outputs": [
    {
     "data": {
      "text/html": [
       "<div>\n",
       "<style scoped>\n",
       "    .dataframe tbody tr th:only-of-type {\n",
       "        vertical-align: middle;\n",
       "    }\n",
       "\n",
       "    .dataframe tbody tr th {\n",
       "        vertical-align: top;\n",
       "    }\n",
       "\n",
       "    .dataframe thead th {\n",
       "        text-align: right;\n",
       "    }\n",
       "</style>\n",
       "<table border=\"1\" class=\"dataframe\">\n",
       "  <thead>\n",
       "    <tr style=\"text-align: right;\">\n",
       "      <th></th>\n",
       "      <th>HeartDisease</th>\n",
       "      <th>BMI</th>\n",
       "      <th>Smoking</th>\n",
       "      <th>AlcoholDrinking</th>\n",
       "      <th>Stroke</th>\n",
       "      <th>PhysicalHealth</th>\n",
       "      <th>MentalHealth</th>\n",
       "      <th>DiffWalking</th>\n",
       "      <th>Sex</th>\n",
       "      <th>AgeCategory</th>\n",
       "      <th>Race</th>\n",
       "      <th>Diabetic</th>\n",
       "      <th>PhysicalActivity</th>\n",
       "      <th>GenHealth</th>\n",
       "      <th>SleepTime</th>\n",
       "      <th>Asthma</th>\n",
       "      <th>KidneyDisease</th>\n",
       "      <th>SkinCancer</th>\n",
       "    </tr>\n",
       "  </thead>\n",
       "  <tbody>\n",
       "    <tr>\n",
       "      <th>0</th>\n",
       "      <td>No</td>\n",
       "      <td>16.60</td>\n",
       "      <td>Yes</td>\n",
       "      <td>No</td>\n",
       "      <td>No</td>\n",
       "      <td>3.0</td>\n",
       "      <td>30.0</td>\n",
       "      <td>No</td>\n",
       "      <td>Female</td>\n",
       "      <td>55-59</td>\n",
       "      <td>White</td>\n",
       "      <td>Yes</td>\n",
       "      <td>Yes</td>\n",
       "      <td>Very good</td>\n",
       "      <td>5.0</td>\n",
       "      <td>Yes</td>\n",
       "      <td>No</td>\n",
       "      <td>Yes</td>\n",
       "    </tr>\n",
       "    <tr>\n",
       "      <th>1</th>\n",
       "      <td>No</td>\n",
       "      <td>20.34</td>\n",
       "      <td>No</td>\n",
       "      <td>No</td>\n",
       "      <td>Yes</td>\n",
       "      <td>0.0</td>\n",
       "      <td>0.0</td>\n",
       "      <td>No</td>\n",
       "      <td>Female</td>\n",
       "      <td>80 or older</td>\n",
       "      <td>White</td>\n",
       "      <td>No</td>\n",
       "      <td>Yes</td>\n",
       "      <td>Very good</td>\n",
       "      <td>7.0</td>\n",
       "      <td>No</td>\n",
       "      <td>No</td>\n",
       "      <td>No</td>\n",
       "    </tr>\n",
       "    <tr>\n",
       "      <th>2</th>\n",
       "      <td>No</td>\n",
       "      <td>26.58</td>\n",
       "      <td>Yes</td>\n",
       "      <td>No</td>\n",
       "      <td>No</td>\n",
       "      <td>20.0</td>\n",
       "      <td>30.0</td>\n",
       "      <td>No</td>\n",
       "      <td>Male</td>\n",
       "      <td>65-69</td>\n",
       "      <td>White</td>\n",
       "      <td>Yes</td>\n",
       "      <td>Yes</td>\n",
       "      <td>Fair</td>\n",
       "      <td>8.0</td>\n",
       "      <td>Yes</td>\n",
       "      <td>No</td>\n",
       "      <td>No</td>\n",
       "    </tr>\n",
       "    <tr>\n",
       "      <th>3</th>\n",
       "      <td>No</td>\n",
       "      <td>24.21</td>\n",
       "      <td>No</td>\n",
       "      <td>No</td>\n",
       "      <td>No</td>\n",
       "      <td>0.0</td>\n",
       "      <td>0.0</td>\n",
       "      <td>No</td>\n",
       "      <td>Female</td>\n",
       "      <td>75-79</td>\n",
       "      <td>White</td>\n",
       "      <td>No</td>\n",
       "      <td>No</td>\n",
       "      <td>Good</td>\n",
       "      <td>6.0</td>\n",
       "      <td>No</td>\n",
       "      <td>No</td>\n",
       "      <td>Yes</td>\n",
       "    </tr>\n",
       "    <tr>\n",
       "      <th>4</th>\n",
       "      <td>No</td>\n",
       "      <td>23.71</td>\n",
       "      <td>No</td>\n",
       "      <td>No</td>\n",
       "      <td>No</td>\n",
       "      <td>28.0</td>\n",
       "      <td>0.0</td>\n",
       "      <td>Yes</td>\n",
       "      <td>Female</td>\n",
       "      <td>40-44</td>\n",
       "      <td>White</td>\n",
       "      <td>No</td>\n",
       "      <td>Yes</td>\n",
       "      <td>Very good</td>\n",
       "      <td>8.0</td>\n",
       "      <td>No</td>\n",
       "      <td>No</td>\n",
       "      <td>No</td>\n",
       "    </tr>\n",
       "  </tbody>\n",
       "</table>\n",
       "</div>"
      ],
      "text/plain": [
       "  HeartDisease    BMI Smoking AlcoholDrinking Stroke  PhysicalHealth  \\\n",
       "0           No  16.60     Yes              No     No             3.0   \n",
       "1           No  20.34      No              No    Yes             0.0   \n",
       "2           No  26.58     Yes              No     No            20.0   \n",
       "3           No  24.21      No              No     No             0.0   \n",
       "4           No  23.71      No              No     No            28.0   \n",
       "\n",
       "   MentalHealth DiffWalking     Sex  AgeCategory   Race Diabetic  \\\n",
       "0          30.0          No  Female        55-59  White      Yes   \n",
       "1           0.0          No  Female  80 or older  White       No   \n",
       "2          30.0          No    Male        65-69  White      Yes   \n",
       "3           0.0          No  Female        75-79  White       No   \n",
       "4           0.0         Yes  Female        40-44  White       No   \n",
       "\n",
       "  PhysicalActivity  GenHealth  SleepTime Asthma KidneyDisease SkinCancer  \n",
       "0              Yes  Very good        5.0    Yes            No        Yes  \n",
       "1              Yes  Very good        7.0     No            No         No  \n",
       "2              Yes       Fair        8.0    Yes            No         No  \n",
       "3               No       Good        6.0     No            No        Yes  \n",
       "4              Yes  Very good        8.0     No            No         No  "
      ]
     },
     "execution_count": 2,
     "metadata": {},
     "output_type": "execute_result"
    }
   ],
   "source": [
    "df = pd.read_csv('heart_2020_cleaned.csv')\n",
    "df.head()"
   ]
  },
  {
   "cell_type": "code",
   "execution_count": 3,
   "metadata": {},
   "outputs": [
    {
     "name": "stdout",
     "output_type": "stream",
     "text": [
      "Shape of dataset: (319795, 18)\n",
      "<class 'pandas.core.frame.DataFrame'>\n",
      "RangeIndex: 319795 entries, 0 to 319794\n",
      "Data columns (total 18 columns):\n",
      " #   Column            Non-Null Count   Dtype  \n",
      "---  ------            --------------   -----  \n",
      " 0   HeartDisease      319795 non-null  object \n",
      " 1   BMI               319795 non-null  float64\n",
      " 2   Smoking           319795 non-null  object \n",
      " 3   AlcoholDrinking   319795 non-null  object \n",
      " 4   Stroke            319795 non-null  object \n",
      " 5   PhysicalHealth    319795 non-null  float64\n",
      " 6   MentalHealth      319795 non-null  float64\n",
      " 7   DiffWalking       319795 non-null  object \n",
      " 8   Sex               319795 non-null  object \n",
      " 9   AgeCategory       319795 non-null  object \n",
      " 10  Race              319795 non-null  object \n",
      " 11  Diabetic          319795 non-null  object \n",
      " 12  PhysicalActivity  319795 non-null  object \n",
      " 13  GenHealth         319795 non-null  object \n",
      " 14  SleepTime         319795 non-null  float64\n",
      " 15  Asthma            319795 non-null  object \n",
      " 16  KidneyDisease     319795 non-null  object \n",
      " 17  SkinCancer        319795 non-null  object \n",
      "dtypes: float64(4), object(14)\n",
      "memory usage: 43.9+ MB\n"
     ]
    }
   ],
   "source": [
    "print(\"Shape of dataset:\", df.shape)\n",
    "df.info()"
   ]
  },
  {
   "cell_type": "code",
   "execution_count": null,
   "metadata": {},
   "outputs": [],
   "source": [
    "sns.countplot(x=df['HeartDisease'])\n",
    "plt.show()"
   ]
  },
  {
   "cell_type": "code",
   "execution_count": null,
   "metadata": {},
   "outputs": [],
   "source": [
    "print(\"Ratio of count of class 'No' to class 'Yes':\", len(df[df['HeartDisease']=='No'])/len(df[df['HeartDisease']=='Yes']))"
   ]
  },
  {
   "cell_type": "code",
   "execution_count": null,
   "metadata": {},
   "outputs": [],
   "source": [
    "counts = df['Race'].value_counts()\n",
    "counts = dict(counts)\n",
    "counts"
   ]
  },
  {
   "cell_type": "code",
   "execution_count": null,
   "metadata": {},
   "outputs": [],
   "source": [
    "sns.countplot(x = df[\"Race\"])"
   ]
  },
  {
   "cell_type": "code",
   "execution_count": null,
   "metadata": {},
   "outputs": [],
   "source": [
    "total = 0\n",
    "nonwhite = 0\n",
    "\n",
    "for race, num in counts.items():\n",
    "    if race != \"White\":\n",
    "        nonwhite += num\n",
    "    total += num\n",
    "\n",
    "percent_nonwhite = float(nonwhite) / total\n",
    "print (percent_nonwhite)"
   ]
  },
  {
   "cell_type": "code",
   "execution_count": null,
   "metadata": {},
   "outputs": [],
   "source": [
    "num_races = len(counts.items())\n",
    "\n",
    "target_dist_1 = np.array([1 - (percent_nonwhite)] + [percent_nonwhite / (num_races - 1) for i in range (num_races - 1)])\n",
    "target_dist_1"
   ]
  },
  {
   "cell_type": "code",
   "execution_count": null,
   "metadata": {},
   "outputs": [],
   "source": [
    "target_dist_4 = np.array([1.0 / num_races for i in range (num_races)])\n",
    "\n",
    "target_dist_2 = (target_dist_1 * 2 + target_dist_4) / 3\n",
    "target_dist_3 = (target_dist_1 + target_dist_4 * 2) / 3"
   ]
  },
  {
   "cell_type": "code",
   "execution_count": null,
   "metadata": {},
   "outputs": [],
   "source": [
    "counts.keys()"
   ]
  },
  {
   "cell_type": "code",
   "execution_count": null,
   "metadata": {},
   "outputs": [],
   "source": [
    "fig, ((ax1, ax2), (ax3, ax4)) = plt.subplots(2, 2)\n",
    "\n",
    "ax1.bar(counts.keys(), target_dist_1)\n",
    "ax2.bar(counts.keys(), target_dist_2)\n",
    "ax3.bar(counts.keys(), target_dist_3)\n",
    "ax4.bar(counts.keys(), target_dist_4)\n",
    "\n",
    "plt.show()"
   ]
  },
  {
   "cell_type": "markdown",
   "metadata": {},
   "source": [
    "# Remove Duplicates"
   ]
  },
  {
   "cell_type": "code",
   "execution_count": null,
   "metadata": {},
   "outputs": [],
   "source": [
    "print(\"Initial shape:\", df.shape)\n",
    "print(\"Duplicates in dataset:\", df.duplicated().sum())"
   ]
  },
  {
   "cell_type": "code",
   "execution_count": null,
   "metadata": {},
   "outputs": [],
   "source": [
    "df.drop_duplicates(inplace=True)\n",
    "\n",
    "print(\"New shape:\", df.shape)\n",
    "print(\"Duplicates in dataset:\", df.duplicated().sum())"
   ]
  },
  {
   "cell_type": "code",
   "execution_count": null,
   "metadata": {},
   "outputs": [],
   "source": [
    "counts = df['Race'].value_counts()\n",
    "counts = dict(counts)\n",
    "counts"
   ]
  },
  {
   "cell_type": "code",
   "execution_count": null,
   "metadata": {},
   "outputs": [],
   "source": [
    "total = 0\n",
    "nonwhite = 0\n",
    "\n",
    "for race, num in counts.items():\n",
    "    if race != \"White\":\n",
    "        nonwhite += num\n",
    "    total += num\n",
    "\n",
    "percent_nonwhite = float(nonwhite) / total\n",
    "print (percent_nonwhite)"
   ]
  },
  {
   "cell_type": "code",
   "execution_count": null,
   "metadata": {},
   "outputs": [],
   "source": [
    "num_races = len(counts.items())\n",
    "\n",
    "target_dist_1 = np.array([1 - (percent_nonwhite)] + [percent_nonwhite / (num_races - 1) for i in range (num_races - 1)])\n",
    "target_dist_4 = np.array([1.0 / num_races for i in range (num_races)])\n",
    "\n",
    "target_dist_2 = (target_dist_1 * 2 + target_dist_4) / 3\n",
    "target_dist_3 = (target_dist_1 + target_dist_4 * 2) / 3\n",
    "\n",
    "fig, ((ax1, ax2), (ax3, ax4)) = plt.subplots(2, 2)\n",
    "\n",
    "ax1.bar(counts.keys(), target_dist_1)\n",
    "ax2.bar(counts.keys(), target_dist_2)\n",
    "ax3.bar(counts.keys(), target_dist_3)\n",
    "ax4.bar(counts.keys(), target_dist_4)\n",
    "\n",
    "plt.show()"
   ]
  },
  {
   "cell_type": "code",
   "execution_count": null,
   "metadata": {},
   "outputs": [],
   "source": [
    "df[df[\"Race\"] == \"Asian\"]"
   ]
  },
  {
   "cell_type": "code",
   "execution_count": null,
   "metadata": {},
   "outputs": [],
   "source": [
    "df.columns"
   ]
  },
  {
   "cell_type": "code",
   "execution_count": null,
   "metadata": {},
   "outputs": [],
   "source": [
    "['Sex', 'AgeCategory',\n",
    "       'Race', 'Diabetic', 'PhysicalActivity', 'GenHealth', \n",
    "       'Asthma', 'KidneyDisease', 'SkinCancer']"
   ]
  },
  {
   "cell_type": "markdown",
   "metadata": {},
   "source": [
    "# Encoding"
   ]
  },
  {
   "cell_type": "code",
   "execution_count": null,
   "metadata": {},
   "outputs": [],
   "source": [
    "from sklearn.preprocessing import LabelEncoder\n",
    "\n",
    "data=df.copy()\n",
    "le = LabelEncoder()\n",
    "\n",
    "col = data[['HeartDisease', 'Smoking', 'AlcoholDrinking','AgeCategory', 'Stroke', 'DiffWalking','Race', 'Sex','PhysicalActivity', 'Asthma', 'KidneyDisease', 'SkinCancer','GenHealth' ,'Diabetic']]\n",
    "for i in col:\n",
    "    data[i] = le.fit_transform(data[i])\n",
    "data.head()"
   ]
  },
  {
   "cell_type": "markdown",
   "metadata": {},
   "source": [
    "# Standardization"
   ]
  },
  {
   "cell_type": "code",
   "execution_count": null,
   "metadata": {},
   "outputs": [],
   "source": [
    "from sklearn.preprocessing import StandardScaler\n",
    "std_scaler = StandardScaler()\n",
    "\n",
    "continuous_vars=df.select_dtypes('float64').columns\n",
    "cols = list(continuous_vars)\n",
    "data[cols] = std_scaler.fit_transform(data[cols])\n",
    "\n",
    "data"
   ]
  },
  {
   "cell_type": "code",
   "execution_count": null,
   "metadata": {},
   "outputs": [],
   "source": [
    "from sklearn.model_selection import train_test_split\n",
    "\n",
    "training_data, testing_data = train_test_split(data, test_size=0.2)"
   ]
  },
  {
   "cell_type": "code",
   "execution_count": null,
   "metadata": {},
   "outputs": [],
   "source": [
    "training_data.size, testing_data.size"
   ]
  },
  {
   "cell_type": "markdown",
   "metadata": {},
   "source": [
    "## Train Test Split"
   ]
  },
  {
   "cell_type": "code",
   "execution_count": null,
   "metadata": {},
   "outputs": [],
   "source": [
    "from sklearn.model_selection import train_test_split\n",
    "\n",
    "training_data, testing_data = train_test_split(data, test_size=0.2)"
   ]
  },
  {
   "cell_type": "code",
   "execution_count": null,
   "metadata": {},
   "outputs": [],
   "source": [
    "training_data.reset_index(inplace=True, drop=True)\n",
    "training_data"
   ]
  },
  {
   "cell_type": "code",
   "execution_count": null,
   "metadata": {},
   "outputs": [],
   "source": [
    "testing_data.reset_index(inplace=True, drop=True)\n",
    "testing_data"
   ]
  },
  {
   "cell_type": "code",
   "execution_count": null,
   "metadata": {},
   "outputs": [],
   "source": [
    "# class count\n",
    "class_counts = training_data['Race'].value_counts()\n",
    "\n",
    "# Separate class\n",
    "class_0 = training_data[training_data['Race'] == 5]\n",
    "class_1 = training_data[training_data['Race'] != 5]\n",
    "\n",
    "print('Class 0 [Race = White]:', class_0.shape)\n",
    "print('Class 1 [Race != White]:', class_1.shape)"
   ]
  },
  {
   "cell_type": "code",
   "execution_count": null,
   "metadata": {},
   "outputs": [],
   "source": [
    "training_data[\"Race\"]"
   ]
  },
  {
   "cell_type": "code",
   "execution_count": null,
   "metadata": {},
   "outputs": [],
   "source": [
    "counts = training_data['Race'].value_counts()\n",
    "counts = dict(counts)\n",
    "counts\n",
    "# total = 241103"
   ]
  },
  {
   "cell_type": "code",
   "execution_count": null,
   "metadata": {},
   "outputs": [],
   "source": [
    "race = {5: \"White\", 3: \"Hispanic\", 2: \"Black\", 4: \"Other\", 1: \"Asian\", 0: \"American Indian/Alaskan Native\"}"
   ]
  },
  {
   "cell_type": "markdown",
   "metadata": {},
   "source": [
    "## Random oversampling"
   ]
  },
  {
   "cell_type": "code",
   "execution_count": null,
   "metadata": {},
   "outputs": [],
   "source": [
    "orig_white = counts[5]/sum(training_data['Race'].value_counts())\n",
    "print(\"Orignal % white:\", orig_white)\n",
    "\n",
    "orig_propors = {}\n",
    "\n",
    "for i in race.keys():\n",
    "    orig_propors[i] = counts[i]/sum(training_data['Race'].value_counts())\n",
    "                            \n",
    "orig_propors"
   ]
  },
  {
   "cell_type": "markdown",
   "metadata": {},
   "source": [
    "### Stage 1"
   ]
  },
  {
   "cell_type": "code",
   "execution_count": null,
   "metadata": {},
   "outputs": [],
   "source": [
    "propor_1 = (1-orig_white)/5\n",
    "race_proportions_1 = {5: orig_white, 3: propor_1, 2: propor_1, 4: propor_1, 1: propor_1, 0: propor_1}\n",
    "race_proportions_1"
   ]
  },
  {
   "cell_type": "code",
   "execution_count": null,
   "metadata": {},
   "outputs": [],
   "source": [
    "# Separate class\n",
    "class_5 = training_data[training_data['Race'] == 5]\n",
    "class_3 = training_data[training_data['Race'] == 3]\n",
    "class_2 = training_data[training_data['Race'] == 2]\n",
    "class_4 = training_data[training_data['Race'] == 4]\n",
    "class_1 = training_data[training_data['Race'] == 1]\n",
    "class_0 = training_data[training_data['Race'] == 0]\n",
    "\n",
    "class_2_over = class_2.sample(counts[3], replace=True)\n",
    "class_4_over = class_4.sample(counts[3], replace=True)\n",
    "class_1_over = class_1.sample(counts[3], replace=True)\n",
    "class_0_over = class_0.sample(counts[3], replace=True)\n",
    "\n",
    "# training_data_2 = pd.concat([class_5, class_3, class_2_over, class_4_over, class_1_over, class_0_over], axis=0)\n",
    "# training_data_2['Race'].value_counts()"
   ]
  },
  {
   "cell_type": "code",
   "execution_count": null,
   "metadata": {},
   "outputs": [],
   "source": [
    "class_5_over_count = race_proportions_1[5]/race_proportions_1[3] * counts[3]\n",
    "print(class_5_over_count)\n",
    "class_5_over = class_5.sample(int(class_5_over_count), replace=True)\n",
    "# class_5 = training_data[training_data['Race'] == 5]"
   ]
  },
  {
   "cell_type": "code",
   "execution_count": null,
   "metadata": {},
   "outputs": [],
   "source": [
    "training_data_1 = pd.concat([class_5_over, class_3, class_2_over, class_4_over, class_1_over, class_0_over], axis=0)\n",
    "training_data_1['Race'].value_counts()"
   ]
  },
  {
   "cell_type": "code",
   "execution_count": null,
   "metadata": {},
   "outputs": [],
   "source": [
    "# plot the count after over-sampling\n",
    "# print(\"Total counts of classes:\")\n",
    "# print(training_data_1['Race'].value_counts())\n",
    "training_data_1['Race'].value_counts().plot(kind='bar', title='count (target)')\n",
    "plt.show()"
   ]
  },
  {
   "cell_type": "code",
   "execution_count": null,
   "metadata": {},
   "outputs": [],
   "source": [
    "X_test = testing_data.drop(['HeartDisease'], axis=1)\n",
    "y_test = testing_data['HeartDisease']\n",
    "\n",
    "X_train = training_data.drop(['HeartDisease'], axis=1)\n",
    "y_train = training_data['HeartDisease']\n",
    "\n",
    "X_train_1 = training_data_1.drop(['HeartDisease'], axis=1)\n",
    "y_train_1 = training_data_1['HeartDisease']\n",
    "\n",
    "X_train_list = [X_train, X_train_1]\n",
    "y_train_list = [y_train, y_train_1]\n",
    "# X_train_list = [X_train, X_train1, X_train2, X_train3, X_train4, X_train5]\n",
    "# y_train_list = [y_train, y_train1, y_train2, y_train3, y_train4, y_train5]\n",
    "data_desc = ['Imbalanced', 'Random Over-sampling']"
   ]
  },
  {
   "cell_type": "markdown",
   "metadata": {},
   "source": [
    "### Stage 2"
   ]
  },
  {
   "cell_type": "code",
   "execution_count": null,
   "metadata": {},
   "outputs": [],
   "source": [
    "propor_2 = 1/5\n",
    "race_proportions_2 = {5: propor_2, 3: propor_2, 2: propor_2, 4: propor_2, 1: propor_2, 0: propor_2}\n",
    "race_proportions_2"
   ]
  },
  {
   "cell_type": "code",
   "execution_count": null,
   "metadata": {},
   "outputs": [],
   "source": [
    "# Separate class\n",
    "class_3_over = class_3.sample(counts[5], replace=True)\n",
    "class_2_over = class_2.sample(counts[5], replace=True)\n",
    "class_4_over = class_4.sample(counts[5], replace=True)\n",
    "class_1_over = class_1.sample(counts[5], replace=True)\n",
    "class_0_over = class_0.sample(counts[5], replace=True)\n",
    "\n",
    "# training_data_2 = pd.concat([class_5, class_3, class_2_over, class_4_over, class_1_over, class_0_over], axis=0)\n",
    "# training_data_2['Race'].value_counts()"
   ]
  },
  {
   "cell_type": "code",
   "execution_count": null,
   "metadata": {},
   "outputs": [],
   "source": [
    "training_data_2 = pd.concat([class_5, class_3_over, class_2_over, class_4_over, class_1_over, class_0_over], axis=0)\n",
    "training_data_2['Race'].value_counts()"
   ]
  },
  {
   "cell_type": "code",
   "execution_count": null,
   "metadata": {},
   "outputs": [],
   "source": [
    "# plot the count after over-sampling\n",
    "print(\"Total counts of classes:\")\n",
    "print(training_data_2['Race'].value_counts())\n",
    "training_data_2['Race'].value_counts().plot(kind='bar', title='count (target)')\n",
    "plt.show()"
   ]
  },
  {
   "cell_type": "code",
   "execution_count": null,
   "metadata": {},
   "outputs": [],
   "source": [
    "X_train_2 = training_data_2.drop(['HeartDisease'], axis=1)\n",
    "y_train_2 = training_data_2['HeartDisease']\n",
    "\n",
    "X_train_list = [X_train, X_train_1, X_train_2]\n",
    "y_train_list = [y_train, y_train_1, y_train_2]\n",
    "\n",
    "# X_train_list = [X_train, X_train1, X_train2, X_train3, X_train4, X_train5]\n",
    "# y_train_list = [y_train, y_train1, y_train2, y_train3, y_train4, y_train5]\n",
    "data_desc = ['Imbalanced', 'Random Over-sampling Stage 1', 'Random Over-sampling Stage 2']"
   ]
  },
  {
   "cell_type": "markdown",
   "metadata": {},
   "source": [
    "### Stage 3, Stage 4"
   ]
  },
  {
   "cell_type": "code",
   "execution_count": null,
   "metadata": {},
   "outputs": [],
   "source": [
    "race_proportions_1"
   ]
  },
  {
   "cell_type": "code",
   "execution_count": null,
   "metadata": {},
   "outputs": [],
   "source": [
    "race_proportions_2"
   ]
  },
  {
   "cell_type": "code",
   "execution_count": null,
   "metadata": {},
   "outputs": [],
   "source": [
    "race_proportions_3 = {}\n",
    "race_proportions_4 = {}\n",
    "\n",
    "for i in race_proportions.keys():\n",
    "    race_proportions_3[i] = (race_proportions[i]*2 + race_proportions_2[i]) / 3\n",
    "    race_proportions_4[i] = (race_proportions[i] + race_proportions_2[i]*2) / 3"
   ]
  },
  {
   "cell_type": "code",
   "execution_count": null,
   "metadata": {},
   "outputs": [],
   "source": [
    "race_proportions_3"
   ]
  },
  {
   "cell_type": "code",
   "execution_count": null,
   "metadata": {},
   "outputs": [],
   "source": [
    "race_proportions_4"
   ]
  },
  {
   "cell_type": "code",
   "execution_count": null,
   "metadata": {},
   "outputs": [],
   "source": [
    "# Separate class\n",
    "class_2_over = class_2.sample(counts[3], replace=True)\n",
    "class_4_over = class_4.sample(counts[3], replace=True)\n",
    "class_1_over = class_1.sample(counts[3], replace=True)\n",
    "class_0_over = class_0.sample(counts[3], replace=True)"
   ]
  },
  {
   "cell_type": "code",
   "execution_count": null,
   "metadata": {},
   "outputs": [],
   "source": [
    "class_5_over_count = race_proportions_3[5]/race_proportions_3[3] * counts[3]\n",
    "print(class_5_over_count)\n",
    "class_5_over = class_5.sample(int(class_5_over_count), replace=True)\n",
    "# class_5 = training_data[training_data['Race'] == 5]"
   ]
  },
  {
   "cell_type": "code",
   "execution_count": null,
   "metadata": {},
   "outputs": [],
   "source": [
    "training_data_3 = pd.concat([class_5_over, class_3, class_2_over, class_4_over, class_1_over, class_0_over], axis=0)\n",
    "training_data_3['Race'].value_counts()"
   ]
  },
  {
   "cell_type": "code",
   "execution_count": null,
   "metadata": {},
   "outputs": [],
   "source": [
    "# plot the count after over-sampling\n",
    "print(\"Total counts of classes:\")\n",
    "print(training_data_3['Race'].value_counts())\n",
    "training_data_3['Race'].value_counts().plot(kind='bar', title='count (target)')\n",
    "plt.show()"
   ]
  },
  {
   "cell_type": "code",
   "execution_count": null,
   "metadata": {},
   "outputs": [],
   "source": [
    "X_train_3 = training_data_3.drop(['HeartDisease'], axis=1)\n",
    "y_train_3 = training_data_3['HeartDisease']\n",
    "\n",
    "X_train_list = [X_train, X_train_1, X_train_2, X_train_3]\n",
    "y_train_list = [y_train, y_train_1, y_train_2, y_train_3]\n",
    "\n",
    "data_desc = ['Imbalanced', 'Random Over-sampling Stage 1', 'Random Over-sampling Stage 2', 'Random Over-sampling Stage 3']"
   ]
  },
  {
   "cell_type": "code",
   "execution_count": null,
   "metadata": {},
   "outputs": [],
   "source": [
    "class_5_over_count = race_proportions_4[5]/race_proportions_4[3] * counts[3]\n",
    "print(class_5_over_count)\n",
    "class_5_over = class_5.sample(int(class_5_over_count), replace=True)\n",
    "# class_5 = training_data[training_data['Race'] == 5]"
   ]
  },
  {
   "cell_type": "code",
   "execution_count": null,
   "metadata": {},
   "outputs": [],
   "source": [
    "training_data_4 = pd.concat([class_5_over, class_3, class_2_over, class_4_over, class_1_over, class_0_over], axis=0)\n",
    "training_data_4['Race'].value_counts()"
   ]
  },
  {
   "cell_type": "code",
   "execution_count": null,
   "metadata": {},
   "outputs": [],
   "source": [
    "# plot the count after over-sampling\n",
    "print(\"Total counts of classes:\")\n",
    "print(training_data_3['Race'].value_counts())\n",
    "training_data_3['Race'].value_counts().plot(kind='bar', title='count (target)')\n",
    "plt.show()"
   ]
  },
  {
   "cell_type": "code",
   "execution_count": null,
   "metadata": {},
   "outputs": [],
   "source": [
    "X_train_4 = training_data_4.drop(['HeartDisease'], axis=1)\n",
    "y_train_4 = training_data_4['HeartDisease']\n",
    "\n",
    "X_train_list = [X_train, X_train_1, X_train_2, X_train_3, X_train_4]\n",
    "y_train_list = [y_train, y_train_1, y_train_2, y_train_3, y_train_4]\n",
    "\n",
    "data_desc = ['Imbalanced', 'Random Over-sampling Stage 1', 'Random Over-sampling Stage 2', 'Random Over-sampling Stage 3', 'Random Over-sampling Stage 4']"
   ]
  },
  {
   "cell_type": "markdown",
   "metadata": {},
   "source": [
    "### Plotting"
   ]
  },
  {
   "cell_type": "code",
   "execution_count": null,
   "metadata": {
    "scrolled": false
   },
   "outputs": [],
   "source": [
    "for i in range(len(X_train_list[0: ])):\n",
    "    print(\"---------------------------------------------------------------------------\")\n",
    "    print(f\"Model with training data {i} ({data_desc[i]}):\\n\".upper())\n",
    "    print (str(X_train_list[i].shape[0]) + \" training examples\")\n",
    "    \n",
    "    # making model for logistic regression\n",
    "    clf_LR= LogisticRegression(random_state=0).fit(X_train_list[i], y_train_list[i])\n",
    "    pred = clf_LR.predict(X_test)\n",
    "    print (pred)\n",
    "    \n",
    "    df = pd.DataFrame({\n",
    "        'race': X_test[\"Race\"],\n",
    "        'predictions': pred,\n",
    "        'ground_truth': y_test\n",
    "    })\n",
    "\n",
    "    print(\"Classification report:\\n\")\n",
    "    print(classification_report(y_test,pred))\n",
    "\n",
    "    tp_rate_by_race = df.groupby('race').apply(lambda x: recall_score(x['ground_truth'], x['predictions']))\n",
    "    \n",
    "    plt.bar(tp_rate_by_race.index, tp_rate_by_race)\n",
    "    plt.xlabel('Race')\n",
    "    plt.ylabel('Accuracy')\n",
    "    plt.title('Accuracy Within Each Race')\n",
    "    plt.show()\n",
    "    print(\"---------------------------------------------------------------------------\")"
   ]
  },
  {
   "cell_type": "code",
   "execution_count": null,
   "metadata": {
    "scrolled": false
   },
   "outputs": [],
   "source": [
    "for i in range(len(X_train_list)):\n",
    "    print(\"---------------------------------------------------------------------------\")\n",
    "    print(f\"Model with training data {i} ({data_desc[i]}):\\n\".upper())\n",
    "    \n",
    "    # making model for logistic regression\n",
    "    clf_LR= LogisticRegression(random_state=0).fit(X_train_list[i], y_train_list[i])\n",
    "    pred = clf_LR.predict(X_test)\n",
    "    \n",
    "    print('Model accuracy score: {0:0.4f}'. format(accuracy_score(y_test, pred)))\n",
    "    print(\"Classification report:\\n\")\n",
    "    print(classification_report(y_test,pred))\n",
    "    \n",
    "    print(\"Confusion Matrix:\") \n",
    "    ConfusionMatrixDisplay.from_predictions(y_test, pred, cmap='YlOrRd')\n",
    "    plt.show()\n",
    "    print(\"---------------------------------------------------------------------------\")"
   ]
  },
  {
   "cell_type": "code",
   "execution_count": null,
   "metadata": {},
   "outputs": [],
   "source": []
  }
 ],
 "metadata": {
  "kernelspec": {
   "display_name": "Python 3 (ipykernel)",
   "language": "python",
   "name": "python3"
  },
  "language_info": {
   "codemirror_mode": {
    "name": "ipython",
    "version": 3
   },
   "file_extension": ".py",
   "mimetype": "text/x-python",
   "name": "python",
   "nbconvert_exporter": "python",
   "pygments_lexer": "ipython3",
   "version": "3.9.13"
  }
 },
 "nbformat": 4,
 "nbformat_minor": 2
}
